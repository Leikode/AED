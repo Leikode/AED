{
  "nbformat": 4,
  "nbformat_minor": 0,
  "metadata": {
    "colab": {
      "name": "T5AED_VictorHugoGiovanna.ipynb",
      "provenance": [],
      "collapsed_sections": [
        "3qOeylfS4von",
        "dr_pTwZ4VRN0"
      ]
    },
    "kernelspec": {
      "name": "python3",
      "display_name": "Python 3"
    }
  },
  "cells": [
    {
      "cell_type": "markdown",
      "metadata": {
        "id": "XlX0U9_expJX"
      },
      "source": [
        "# Eficiência das árvores AB, ABB e AVL - T5 (AED)\n",
        "**Disciplina:** ESTCMP011 - Algoritmos e Estruturas de Dados I (2020/01)               \n",
        "**Victor Hugo Santos de Lima** - 1915080025                      \n",
        "**Giovanna Souza Teodoro** - 1915080065                                 \n"
      ]
    },
    {
      "cell_type": "markdown",
      "metadata": {
        "id": "O7gJtpSEVnsP"
      },
      "source": [
        "# Árvores\n"
      ]
    },
    {
      "cell_type": "markdown",
      "metadata": {
        "id": "1o7XWWijVqSu"
      },
      "source": [
        "**Árvore binária (AB)**"
      ]
    },
    {
      "cell_type": "code",
      "metadata": {
        "id": "XezmNSMuORI9"
      },
      "source": [
        "import time\n",
        "\n",
        "class TreeNodeBT:\n",
        "    def __init__(self,data): \n",
        "        self.data = data  \n",
        "        self.left = None  \n",
        "        self.right = None \n",
        "        self.level = None \n",
        " \n",
        "class BinaryTree:\n",
        "    def __init__(self): \n",
        "        self.root = None\n",
        "\n",
        "    # insercao por varredura de nivel\n",
        "    def insert(self, key):\n",
        "        if self.root is None:\n",
        "            self.root = TreeNodeBT(key)\n",
        "        else:\n",
        "            self._insert(self.root, key)\n",
        "    \n",
        "    def _insert(self, node, key):\n",
        "        q = [node]\n",
        "        while(len(q)):\n",
        "            current = q.pop(0)\n",
        "\n",
        "            if not current.left:\n",
        "                current.left = TreeNodeBT(key)\n",
        "                break\n",
        "            else:\n",
        "                q.append(current.left)\n",
        "            if not current.right:\n",
        "                current.right = TreeNodeBT(key)\n",
        "                break\n",
        "            else:\n",
        "                q.append(current.right)\n",
        "        return node\n",
        " \n",
        "    # a pesquisa também será por varredura\n",
        "    # desta vez será pelo método de caminho pós-fixado\n",
        "    # funcao recursiva: arvore esquerda, arvore direita, nó\n",
        "    def search_postorder(self,node,value):\n",
        "        if node is not None:\n",
        "            # visita arvore esquerda\n",
        "            self.search_postorder(node.left,value)\n",
        "            # visita arvore a direita \n",
        "            self.search_postorder(node.right,value)\n",
        "            #print(node.data)\n",
        "            if (node.data == value):\n",
        "                # o tempo cronometrado será da saída do output\n",
        "                print(\"Elemento encontrado na árvore AB!\")\n",
        "                print(\"Tempo para realizar a busca na AB:\", time.time() - start1)\n"
      ],
      "execution_count": null,
      "outputs": []
    },
    {
      "cell_type": "markdown",
      "metadata": {
        "id": "v9gGM4uBVuZm"
      },
      "source": [
        "**Árvore binária de busca (ABB)**"
      ]
    },
    {
      "cell_type": "code",
      "metadata": {
        "id": "2cCZThi8VzLF"
      },
      "source": [
        "import time\n",
        "\n",
        "class TreeNodeBST:\n",
        "    def __init__(self, data):\n",
        "        self.data = data\n",
        "        self.left = None        \n",
        "        self.right = None\n",
        "\n",
        "\n",
        "class BinarySearchTree:\n",
        "    def __init__(self):\n",
        "        self.root = None\n",
        "    \n",
        "    def search(self, key):\n",
        "        if self.root is None:\n",
        "            print(\"Árvore vazia!\")\n",
        "        else:\n",
        "            self._search(self.root, key)\n",
        "    \n",
        "    def _search(self, node, key):\n",
        "        if node is None:\n",
        "            print(\"Elemento não está na árvore!\")\n",
        "        elif key == node.data:\n",
        "            print(\"Elemento encontrado na árvore ABB!\")\n",
        "            print(\"Tempo para realizar a busca na ABB:\", time.time() - start2)\n",
        "        elif key < node.data:\n",
        "            self._search(node.left, key)\n",
        "        else:\n",
        "            self._search(node.right, key)\n",
        "\n",
        "\n",
        "    def insert(self, key):\n",
        "        if self.root is None:\n",
        "            self.root = TreeNodeBST(key)\n",
        "        else:\n",
        "            self._insert(self.root, key)\n",
        "    \n",
        "    def _insert(self, node, key):\n",
        "        if node is None:\n",
        "            return TreeNodeBST(key)\n",
        "        elif key < node.data:\n",
        "            node.left = self._insert(node.left, key)\n",
        "        else:\n",
        "            node.right = self._insert(node.right, key)\n",
        "        return node\n"
      ],
      "execution_count": null,
      "outputs": []
    },
    {
      "cell_type": "markdown",
      "metadata": {
        "id": "Zjg2Ik0mVzfM"
      },
      "source": [
        "**Árvore AVL**"
      ]
    },
    {
      "cell_type": "code",
      "metadata": {
        "id": "fEUrTnqa3Mn6"
      },
      "source": [
        "import time\n",
        "\n",
        "class TreeNode:\n",
        "    def __init__(self, data):\n",
        "        # Valor do nó\n",
        "        self.data = data\n",
        "        # Ponteiro para a esquerda do nó\n",
        "        self.left = None\n",
        "        # Ponteiro para a direita do nó\n",
        "        self.right = None\n",
        "        # Altura do nó\n",
        "        self.height = 1\n",
        "\n",
        "\n",
        "class AVLTree:\n",
        "    def __init__(self):\n",
        "        # Raiz da árvore\n",
        "        self.root = None\n",
        "\n",
        "    # Chama a função de pesquisa de profundidade, pode ser acessada externamente\n",
        "    def search(self, key):\n",
        "        # Inicia a recursão que irá procurar a chave digitada\n",
        "        return self._search(self.root, key)\n",
        "\n",
        "    # Pesquisa um elemento na árvore \n",
        "    def _search(self, node, key):\n",
        "        # Verifica se o nó é nulo, o que indica que o elemento não está presente \n",
        "        if node is None:\n",
        "            print(\"Elemento não está na Árvore!\")\n",
        "        # Verifica se a chave é igual ao valor do nó, é um caso de parada\n",
        "        elif key == node.data:\n",
        "            print(\"Elemento encontrado na árvore AVL!\")\n",
        "            print(\"Tempo para realizar a busca na AVL:\", time.time() - start3)\n",
        "        # Verifica se a chave é menor que o valor do nó\n",
        "        elif key < node.data:\n",
        "            self._search(node.left, key)\n",
        "        else:\n",
        "            self._search(node.right, key)\n",
        "        return None\n",
        "\n",
        "    # Chama a função de inserção, pode ser acessada externamente\n",
        "    def insert(self, key):\n",
        "        # Inicia a recursão para percorrer a árvore, adicionar o novo elemento e\n",
        "        # possivelmente definir uma nova raiz para a árvore\n",
        "        self.root = self._insert(self.root, key)\n",
        "\n",
        "    # Insere um novo elemento à árvore\n",
        "    def _insert(self, node, key):\n",
        "        # Verifica se o nó está vazio, serve tanto para definir a primeira raiz,\n",
        "        # quanto para adicionar um novo elemento em uma posição vazia\n",
        "        if node is None:\n",
        "            # Retorna o TreeNode da chave\n",
        "            return TreeNode(key)\n",
        "        # Verifica se a chave é menor que o valor do nó\n",
        "        elif key < node.data:\n",
        "            # Chama a função para o lado esquerdo do nó e o atualiza\n",
        "            node.left = self._insert(node.left, key)\n",
        "        else:\n",
        "            # Chama a função para o lado direito do nó e o atualiza\n",
        "            node.right = self._insert(node.right, key)\n",
        "        # Chama a função que irá corrigir a árvore se houver necessidade\n",
        "        return self._balance(node)\n",
        "\n",
        "    # Regula um nó desbalanceado da árvore\n",
        "    def _balance(self, node):\n",
        "        # Define a altura do nó\n",
        "        self._setHeight(node)\n",
        "        # Chama a função que retorna o fator de balanço do nó e verifica se este\n",
        "        # é maior que 1\n",
        "        if self._getBalance(node) > 1:\n",
        "            # Verifica se o fator de balanço do nó filho à esquerda é maior que 0\n",
        "            # Caso esquerda-esquerda\n",
        "            if self._getBalance(node.left) > 0:\n",
        "                # Retorna uma nova raiz para a árvore após executar uma rotação\n",
        "                # à direita\n",
        "                return self._rightRotation(node)\n",
        "            # Caso esquerda-direita\n",
        "            else:\n",
        "                # O neto do nó toma o lugar do filho à esquerda do nó, após uma\n",
        "                # rotação à esquerda\n",
        "                node.left = self._leftRotation(node.left)\n",
        "                # Retorna uma nova raiz para a árvore após uma rotação à direita\n",
        "                return self._rightRotation(node)\n",
        "        # Chama a função que retorna o fator de balanço do nó e verifica se este\n",
        "        # é menor que -1\n",
        "        if self._getBalance(node) < -1:\n",
        "            # Verifica se o fator de balanço do nó filho à direita é menor que 0\n",
        "            # Caso direita-direita\n",
        "            if self._getBalance(node.right) < 0:\n",
        "                # Retorna uma nova raiz para a árvore após uma rotação à esquerda\n",
        "                return self._leftRotation(node)\n",
        "            # Caso direita-esquerda\n",
        "            else:\n",
        "                # O neto do nó toma o lugar do filho à direita do nó, após uma\n",
        "                # rotação à direita\n",
        "                node.right = self._rightRotation(node.right)\n",
        "                # Retorna uma nova raiz para a árvore após uma rotação à esquerda\n",
        "                return self._leftRotation(node)\n",
        "        # Retorno padrão à função _insert()\n",
        "        return node\n",
        "\n",
        "    # Define uma nova altura para um nó\n",
        "    def _setHeight(self, node):\n",
        "        # Acha a maior distância do nó a um nó folha descendente\n",
        "        node.height = 1 + max(self._getHeight(node.left), self._getHeight(node.right))\n",
        "\n",
        "    # Função que retorna a altura do nó\n",
        "    def _getHeight(self, node):\n",
        "        # Verifica se o nó foi alocado\n",
        "        if node is None:\n",
        "            return 0\n",
        "        else:\n",
        "            # Retorna a altura do nó\n",
        "            return node.height\n",
        "\n",
        "    # Função que calcula o fator de balanço de um nó\n",
        "    def _getBalance(self, node):\n",
        "        # Retorna a diferença entre a altura do nó filho à esquerda e a altura do\n",
        "        # nó filho à direita\n",
        "        return self._getHeight(node.left) - self._getHeight(node.right)\n",
        "\n",
        "    # Função que rotaciona um nó no sentido anti-horário\n",
        "    def _leftRotation(self, uNode):\n",
        "        # sNode recebe o nó filho à direita de uNode\n",
        "        sNode = uNode.right\n",
        "        # O filho à direita de uNode é substituido pelo filho à esquerda de sNode\n",
        "        uNode.right = sNode.left\n",
        "        # O filho à esquerda de sNode recebe uNode\n",
        "        sNode.left = uNode\n",
        "\n",
        "        # Redefine as alturas dos 2 nós\n",
        "        self._setHeight(uNode)\n",
        "        self._setHeight(sNode)\n",
        "\n",
        "        # Retorna o sNode, que será a nova raiz da árvore\n",
        "        return sNode\n",
        "\n",
        "    # Função que rotaciona um nó no sentido horário\n",
        "    def _rightRotation(self, uNode):\n",
        "        # sNode recebe o nó filho à esquerda de uNode\n",
        "        sNode = uNode.left\n",
        "        # O filho à esquerda de uNode é substituido pelo filho à direita de sNode\n",
        "        uNode.left = sNode.right\n",
        "        # O filho à direita de sNode recebe uNode\n",
        "        sNode.right = uNode\n",
        "\n",
        "        # Redefine as alturas dos 2 nós\n",
        "        self._setHeight(uNode)\n",
        "        self._setHeight(sNode)\n",
        "\n",
        "        # Retorna o sNode, que será a nova raiz da árvore\n",
        "        return sNode\n",
        "\n"
      ],
      "execution_count": null,
      "outputs": []
    },
    {
      "cell_type": "markdown",
      "metadata": {
        "id": "3qOeylfS4von"
      },
      "source": [
        "# Visualização"
      ]
    },
    {
      "cell_type": "code",
      "metadata": {
        "id": "hANbVLT0yr02"
      },
      "source": [
        "import matplotlib.pyplot as plt\n",
        "import networkx as nx\n",
        "\n",
        "def hierarchy_pos(G, root=None, width=1., vert_gap=0.2, vert_loc=0, xcenter=0.5):\n",
        "  if not nx.is_tree(G):\n",
        "    raise TypeError('cannot_use_hierarchy_pos_on_a_graph_that_is_not_a_tree')\n",
        "  if root is None:\n",
        "    if isinstance(G, nx.DiGraph):\n",
        "      root = next(iter(nx.topological_sort(G)))\n",
        "    else:\n",
        "      root = random.choice(list(G.nodes))\n",
        "\n",
        "  def _hierarchy_pos(G, root, width=1., vert_gap=0.2, vert_loc=0, xcenter=0.5, pos=None,parent=None):\n",
        "    if pos is None:\n",
        "      pos = {root:(xcenter, vert_loc)}\n",
        "    else:\n",
        "      pos[root] = (xcenter, vert_loc)\n",
        "    children = list(G.neighbors(root))\n",
        "    if not isinstance(G, nx.DiGraph) and parent is not None:\n",
        "      children.remove(parent)\n",
        "    if len(children)!=0:\n",
        "      dx = width/len(children)\n",
        "      nextx = xcenter - width/2 - dx/2\n",
        "      for child in children:\n",
        "        nextx += dx\n",
        "        pos = _hierarchy_pos(G, child, width = dx, vert_gap = vert_gap, vert_loc = vert_loc-vert_gap, xcenter=nextx, pos=pos, parent=root)\n",
        "    return pos\n",
        "  return _hierarchy_pos(G, root, width, vert_gap, vert_loc, xcenter)"
      ],
      "execution_count": null,
      "outputs": []
    },
    {
      "cell_type": "markdown",
      "metadata": {
        "id": "dr_pTwZ4VRN0"
      },
      "source": [
        "# Situação em que AB > ABB e AVL"
      ]
    },
    {
      "cell_type": "markdown",
      "metadata": {
        "id": "kETFFB4RLow1"
      },
      "source": [
        "Operação avaliada: busca()\n",
        "\n",
        "Explicação: Visto que o método de busca da árvore binária é pela varredura pós-fixado, o elemento que estiver mais à esquerda será o primeiro a ser acessado. A árvore binária de busca vai demorar, uma vez que o elemento também é o de maior valor, ou seja, o nó com maior profundidade. Embora o método de pesquisa da árvore binária de busca seja igual ao da árvore AVL, espera-se que ela seja mais eficaz, uma vez que ela é uma binária completa, em vez de degenerada, como é o caso da árvore binária de busca."
      ]
    },
    {
      "cell_type": "code",
      "metadata": {
        "id": "GHI9H2p5VWLs",
        "colab": {
          "base_uri": "https://localhost:8080/",
          "height": 119
        },
        "outputId": "0150d012-fc3f-4f6a-c18d-33cec1f43b89"
      },
      "source": [
        "# -------------- CONJUNTO DE DADOS -------------- #\n",
        "arr = [1,2,3,4,5,6,7,8,9,10,11,12,13,14,15,16]\n",
        "\n",
        "# ---------- VALOR QUE SERÁ PROCURADO ----------- #\n",
        "#                       16                        #\n",
        "\n",
        "# --------------- ARVORE BINARIA ---------------- #                    \n",
        "tree1 = BinaryTree()     \n",
        "for i in arr:\n",
        "    tree1.insert(i)\n",
        "start1 = time.time()\n",
        "tree1.search_postorder(tree1.root,16)\n",
        "\n",
        "# ------------ ARVORE DE BUSCA BINARIA ---------- # \n",
        "tree2 = BinarySearchTree()     \n",
        "for i in arr:\n",
        "    tree2.insert(i)\n",
        "start2 = time.time()\n",
        "tree2.search(16)\n",
        "\n",
        "# ------------------ ARVORE AVL ----------------- #\n",
        "tree3 = AVLTree()\n",
        "for i in arr:\n",
        "    tree3.insert(i)\n",
        "start3 = time.time()\n",
        "tree3.search(16)"
      ],
      "execution_count": null,
      "outputs": [
        {
          "output_type": "stream",
          "text": [
            "Elemento encontrado na árvore AB!\n",
            "Tempo para realizar a busca na BT: 0.00011444091796875\n",
            "Elemento encontrado na árvore BSS!\n",
            "Tempo para realizar a busca na BSS: 0.0007946491241455078\n",
            "Elemento encontrado na árvore AVL!\n",
            "Tempo para realizar a busca na AVL: 0.0003006458282470703\n"
          ],
          "name": "stdout"
        }
      ]
    },
    {
      "cell_type": "code",
      "metadata": {
        "id": "XG1OBMDR5RSz",
        "cellView": "form",
        "colab": {
          "base_uri": "https://localhost:8080/",
          "height": 319
        },
        "outputId": "45ab3c47-75ca-450a-a790-92c3b045cf9f"
      },
      "source": [
        "#@title Resultado visual da AB\n",
        "\n",
        "G=nx.Graph()\n",
        "G.add_edges_from([(1,2),(1,3),(2,4),(2,5),(3,6),(3,7),(4,8),(4,9),(5,10),(5,11),(6,12),(6,13),(7,14),(7,15),(8,16)])\n",
        "pos = hierarchy_pos(G,1)\n",
        "nx.draw(G, pos=pos, with_labels=True)"
      ],
      "execution_count": null,
      "outputs": [
        {
          "output_type": "display_data",
          "data": {
            "image/png": "[encoded data removed]",
            "text/plain": [
              "<Figure size 432x288 with 1 Axes>"
            ]
          },
          "metadata": {
            "tags": []
          }
        }
      ]
    },
    {
      "cell_type": "code",
      "metadata": {
        "id": "YFN6K6IU2-SZ",
        "cellView": "form",
        "colab": {
          "base_uri": "https://localhost:8080/",
          "height": 319
        },
        "outputId": "a3d4431b-f886-4fc9-cf7d-c9b999036edf"
      },
      "source": [
        "#@title Resultado visual da ABB\n",
        "G=nx.Graph()\n",
        "G.add_edges_from([(1,2),(2,3),(3,4),(4,5),(5,6),(6,7),(7,8),(8,9),(9,10),(10,11),(11,12),(12,13),(13,14),(14,15),(15,16)])\n",
        "pos = hierarchy_pos(G,1)\n",
        "nx.draw(G, pos=pos, with_labels=True)"
      ],
      "execution_count": null,
      "outputs": [
        {
          "output_type": "display_data",
          "data": {
            "image/png": "[encoded data removed]",
            "text/plain": [
              "<Figure size 432x288 with 1 Axes>"
            ]
          },
          "metadata": {
            "tags": []
          }
        }
      ]
    },
    {
      "cell_type": "code",
      "metadata": {
        "id": "gl7t3-Fy6wyR",
        "cellView": "form",
        "colab": {
          "base_uri": "https://localhost:8080/",
          "height": 319
        },
        "outputId": "6ef45e20-4ef2-402f-b6df-d74bd3e734c7"
      },
      "source": [
        "#@title Resultado visual da AVL\n",
        "#{oi}\n",
        "G=nx.Graph()\n",
        "G.add_edges_from([(8,4),(8,12),(4,2),(4,6),(12,10),(12,14),(2,\"1\"),(2,3),(14,13),(14,15),(10,9),(10,11),(6,5),(6,7),(15,16)])\n",
        "pos = hierarchy_pos(G,8)\n",
        "nx.draw(G, pos=pos, with_labels=True)\n"
      ],
      "execution_count": null,
      "outputs": [
        {
          "output_type": "display_data",
          "data": {
            "image/png": "[encoded data removed]",
            "text/plain": [
              "<Figure size 432x288 with 1 Axes>"
            ]
          },
          "metadata": {
            "tags": []
          }
        }
      ]
    },
    {
      "cell_type": "markdown",
      "metadata": {
        "id": "LKgnJoU7VWkB"
      },
      "source": [
        "# Situação em que ABB > AB e AVL"
      ]
    },
    {
      "cell_type": "markdown",
      "metadata": {
        "id": "4pGDjkk-Rfon"
      },
      "source": [
        "Operação avaliada: busca()\n",
        "\n",
        "Explicação: A árvore binária de busca conseguirá ser mais rápida porque, embora degenerada, o valor que se procura vai ser comparado com a raíz e rapidamente visto se está à direita ou à esquerda. A árvore binária ainda estará fazendo a varredura pós-fixada, enquanto a AVL terá que percorrer um caminho mais longo devido tantos pivotamentos de nós. "
      ]
    },
    {
      "cell_type": "code",
      "metadata": {
        "id": "EFBsInJFVaO1",
        "colab": {
          "base_uri": "https://localhost:8080/",
          "height": 119
        },
        "outputId": "ec7820d1-5ee8-4ac4-d936-bb88586ad894"
      },
      "source": [
        "# -------------- CONJUNTO DE DADOS -------------- #\n",
        "arr = [15,16,14,13,12,11,10,9,8,7,6,5,4,3,2,1]\n",
        "\n",
        "# ---------- VALOR QUE SERÁ PROCURADO ----------- #\n",
        "#                       16                        #\n",
        "\n",
        "# --------------- ARVORE BINARIA ---------------- #                    \n",
        "tree1 = BinaryTree()     \n",
        "for i in arr:\n",
        "    tree1.insert(i)\n",
        "start1 = time.time()\n",
        "tree1.search_postorder(tree1.root,16)\n",
        "\n",
        "# ------------ ARVORE DE BUSCA BINARIA ---------- # \n",
        "tree2 = BinarySearchTree()     \n",
        "for i in arr:\n",
        "    tree2.insert(i)\n",
        "start2 = time.time()\n",
        "tree2.search(16)\n",
        "\n",
        "# ------------------ ARVORE AVL ----------------- #\n",
        "tree3 = AVLTree()\n",
        "for i in arr:\n",
        "    tree3.insert(i)\n",
        "start3 = time.time()\n",
        "tree3.search(16)"
      ],
      "execution_count": null,
      "outputs": [
        {
          "output_type": "stream",
          "text": [
            "Elemento encontrado na árvore AB!\n",
            "Tempo para realizar a busca na BT: 0.0001304149627685547\n",
            "Elemento encontrado na árvore BSS!\n",
            "Tempo para realizar a busca na BSS: 4.029273986816406e-05\n",
            "Elemento encontrado na árvore AVL!\n",
            "Tempo para realizar a busca na AVL: 4.744529724121094e-05\n"
          ],
          "name": "stdout"
        }
      ]
    },
    {
      "cell_type": "code",
      "metadata": {
        "cellView": "form",
        "id": "EOS-eaHMiwxc",
        "colab": {
          "base_uri": "https://localhost:8080/",
          "height": 319
        },
        "outputId": "b9d28a80-2b5a-4710-f937-a0bc2ee2326f"
      },
      "source": [
        "#@title Resultado visual da AB\n",
        "\n",
        "G=nx.Graph()\n",
        "G.add_edges_from([(15,16),(15,14),(16,13),(16,12),(14,11),(14,10),(13,9),(13,8),(12,7),(12,6),(11,5),(11,4),(10,3),(10,2),(9,1)])\n",
        "pos = hierarchy_pos(G,15)\n",
        "nx.draw(G, pos=pos, with_labels=True)"
      ],
      "execution_count": null,
      "outputs": [
        {
          "output_type": "display_data",
          "data": {
            "image/png": "[encoded data removed]",
            "text/plain": [
              "<Figure size 432x288 with 1 Axes>"
            ]
          },
          "metadata": {
            "tags": []
          }
        }
      ]
    },
    {
      "cell_type": "code",
      "metadata": {
        "cellView": "form",
        "id": "KjEfa_kmizq9",
        "colab": {
          "base_uri": "https://localhost:8080/",
          "height": 319
        },
        "outputId": "1d253f2f-fa5d-4703-859e-529a4866f877"
      },
      "source": [
        "#@title Resultado visual da ABB\n",
        "G=nx.Graph()\n",
        "G.add_edges_from([(15,14),(15,16),(14,13),(13,12),(12,11),(11,10),(10,9),(9,8),(8,7),(7,6),(6,5),(5,4),(4,3),(3,2),(2,\"1\")])\n",
        "pos = hierarchy_pos(G,15)\n",
        "nx.draw(G, pos=pos, with_labels=True)"
      ],
      "execution_count": null,
      "outputs": [
        {
          "output_type": "display_data",
          "data": {
            "image/png": "[encoded data removed]",
            "text/plain": [
              "<Figure size 432x288 with 1 Axes>"
            ]
          },
          "metadata": {
            "tags": []
          }
        }
      ]
    },
    {
      "cell_type": "code",
      "metadata": {
        "cellView": "form",
        "id": "tabAETOmi2p8",
        "colab": {
          "base_uri": "https://localhost:8080/",
          "height": 319
        },
        "outputId": "dfb12bfe-1a17-44b1-baa3-c51bb87a5114"
      },
      "source": [
        "#@title Resultado visual da AVL\n",
        "#{oi}\n",
        "G=nx.Graph()\n",
        "G.add_edges_from([(9,5),(9,13),(5,3),(5,7),(13,11),(13,15),(3,2),(3,4),(7,6),(7,8),(11,10),(11,12),(15,14),(15,16),(2,1)])\n",
        "pos = hierarchy_pos(G,9)\n",
        "nx.draw(G, pos=pos, with_labels=True)\n"
      ],
      "execution_count": null,
      "outputs": [
        {
          "output_type": "display_data",
          "data": {
            "image/png": "[encoded data removed]",
            "text/plain": [
              "<Figure size 432x288 with 1 Axes>"
            ]
          },
          "metadata": {
            "tags": []
          }
        }
      ]
    },
    {
      "cell_type": "markdown",
      "metadata": {
        "id": "esd8dD4YVam4"
      },
      "source": [
        "# Situação em que AVL > ABB e AB "
      ]
    },
    {
      "cell_type": "markdown",
      "metadata": {
        "id": "t1t9FoB8z05m"
      },
      "source": [
        "Operação avaliada: busca()\n",
        "\n",
        "Explicação: A AVL tem um tempo de busca melhor que a ABB degenerada. Para a AB ganhar da AVL, só se fosse um elemento facilmente acessado pela varredura pós-fixada, mas esse nem sempre é o caso. Para simular um caso \"normal\", onde o usuário quer saber um valor entre 1~16, as chances da ABB ganhar são mais altas que as outras duas árvores. "
      ]
    },
    {
      "cell_type": "code",
      "metadata": {
        "id": "lzra1dIqVeKw",
        "colab": {
          "base_uri": "https://localhost:8080/",
          "height": 153
        },
        "outputId": "02f4f5c6-bb71-4c9c-985e-cec68bf35324"
      },
      "source": [
        "# -------------- CONJUNTO DE DADOS -------------- #\n",
        "arr = [16,15,14,13,12,11,10,9,8,7,6,5,4,3,2,1]\n",
        "\n",
        "# ---------- VALOR QUE SERÁ PROCURADO ----------- #\n",
        "import random\n",
        "valor = random.randint(1,16)\n",
        "print(\"O valor procurado é \", valor,\"\\n\")\n",
        "\n",
        "# --------------- ARVORE BINARIA ---------------- #                    \n",
        "tree1 = BinaryTree()     \n",
        "for i in arr:\n",
        "    tree1.insert(i)\n",
        "start1 = time.time()\n",
        "tree1.search_postorder(tree1.root,valor)\n",
        "\n",
        "# ------------ ARVORE DE BUSCA BINARIA ---------- # \n",
        "tree2 = BinarySearchTree()     \n",
        "for i in arr:\n",
        "    tree2.insert(i)\n",
        "start2 = time.time()\n",
        "tree2.search(valor)\n",
        "\n",
        "# ------------------ ARVORE AVL ----------------- #\n",
        "tree3 = AVLTree()\n",
        "for i in arr:\n",
        "    tree3.insert(i)\n",
        "start3 = time.time()\n",
        "tree3.search(valor)"
      ],
      "execution_count": null,
      "outputs": [
        {
          "output_type": "stream",
          "text": [
            "O valor procurado é  11 \n",
            "\n",
            "Elemento encontrado na árvore AB!\n",
            "Tempo para realizar a busca na BT: 0.00010228157043457031\n",
            "Elemento encontrado na árvore BST!\n",
            "Tempo para realizar a busca na BST: 0.0001475811004638672\n",
            "Elemento encontrado na árvore AVL!\n",
            "Tempo para realizar a busca na AVL: 9.083747863769531e-05\n"
          ],
          "name": "stdout"
        }
      ]
    },
    {
      "cell_type": "code",
      "metadata": {
        "cellView": "form",
        "id": "ny9imO9EoMMG",
        "colab": {
          "base_uri": "https://localhost:8080/",
          "height": 319
        },
        "outputId": "3e61b984-9704-4213-82ac-2c8a5c1de974"
      },
      "source": [
        "#@title Resultado visual da AB\n",
        "G=nx.Graph()\n",
        "G.add_edges_from([(16,15),(16,14),(15,13),(15,12),(14,11),(14,10),(13,9),(13,8),(12,7),(12,6),(11,5),(11,4),(10,3),(10,2),(9,1)])\n",
        "pos = hierarchy_pos(G,16)\n",
        "nx.draw(G, pos=pos, with_labels=True)"
      ],
      "execution_count": null,
      "outputs": [
        {
          "output_type": "display_data",
          "data": {
            "image/png": "[encoded data removed]",
            "text/plain": [
              "<Figure size 432x288 with 1 Axes>"
            ]
          },
          "metadata": {
            "tags": []
          }
        }
      ]
    },
    {
      "cell_type": "code",
      "metadata": {
        "cellView": "form",
        "id": "UfxPjU9onKNP",
        "colab": {
          "base_uri": "https://localhost:8080/",
          "height": 319
        },
        "outputId": "afb1e4e7-380d-4f20-bf11-b95af5323962"
      },
      "source": [
        "#@title Resultado visual da ABB\n",
        "G=nx.Graph()\n",
        "G.add_edges_from([(1,2),(2,3),(3,4),(4,5),(5,6),(6,7),(7,8),(8,9),(9,10),(10,11),(11,12),(12,13),(13,14),(14,15),(15,16)])\n",
        "pos = hierarchy_pos(G,16)\n",
        "nx.draw(G, pos=pos, with_labels=True)"
      ],
      "execution_count": null,
      "outputs": [
        {
          "output_type": "display_data",
          "data": {
            "image/png": "[encoded data removed]",
            "text/plain": [
              "<Figure size 432x288 with 1 Axes>"
            ]
          },
          "metadata": {
            "tags": []
          }
        }
      ]
    },
    {
      "cell_type": "code",
      "metadata": {
        "cellView": "form",
        "id": "eiKpR6esndCs",
        "colab": {
          "base_uri": "https://localhost:8080/",
          "height": 319
        },
        "outputId": "dfb12bfe-1a17-44b1-baa3-c51bb87a5114"
      },
      "source": [
        "#@title Resultado visual da AVL\n",
        "#{oi}\n",
        "G=nx.Graph()\n",
        "G.add_edges_from([(9,5),(9,13),(5,3),(5,7),(13,11),(13,15),(3,2),(3,4),(7,6),(7,8),(11,10),(11,12),(15,14),(15,16),(2,1)])\n",
        "pos = hierarchy_pos(G,9)\n",
        "nx.draw(G, pos=pos, with_labels=True)\n"
      ],
      "execution_count": null,
      "outputs": [
        {
          "output_type": "display_data",
          "data": {
            "image/png": "[encoded data removed]",
            "text/plain": [
              "<Figure size 432x288 with 1 Axes>"
            ]
          },
          "metadata": {
            "tags": []
          }
        }
      ]
    },
    {
      "cell_type": "markdown",
      "metadata": {
        "id": "cKuIz0FVO-1B"
      },
      "source": [
        "# Referências bibliográficas\n"
      ]
    },
    {
      "cell_type": "markdown",
      "metadata": {
        "id": "noDARSShPELO"
      },
      "source": [
        "* TAMASSIA, Roberto. GOODRICH, Michael T. GOLDWASSER, Michael. **Data Structures and Algorithms in Python.** 1ª Ed. Wiley, 2013. \n",
        "* LEE, Kent D. HUBBARD, Steve. **Data Structures and Algorithms with Python** 1ª Ed. Springer International Publishing Switzerland, 2015.\n",
        "* SINGH, Nikhil. **Level Order Tree Traversal.** Geeks for Geeks. Disponível em: <https://www.geeksforgeeks.org/level-order-tree-traversal/>. Acesso em 17 de out. de 2020. \n",
        "* BHARATH, Adikar. **Optimal sequence for AVL tree insertion (without any rotations).** Geeks for Geeks. Disponível em: <https://www.geeksforgeeks.org/optimal-sequence-for-avl-tree-insertion-without-any-rotations/>. Acesso em 18 de out. de 2020. \n",
        "\n"
      ]
    }
  ]
}