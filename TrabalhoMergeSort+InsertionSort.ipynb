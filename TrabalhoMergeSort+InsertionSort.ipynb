{
  "nbformat": 4,
  "nbformat_minor": 0,
  "metadata": {
    "colab": {
      "name": "TrabalhoMergeSort+InsertionSort.ipynb",
      "provenance": [],
      "collapsed_sections": [
        "s8Wu4m6D6MQD",
        "O7V5Nynhxu87"
      ]
    },
    "kernelspec": {
      "name": "python3",
      "display_name": "Python 3"
    },
    "language_info": {
      "name": "python"
    }
  },
  "cells": [
    {
      "cell_type": "markdown",
      "metadata": {
        "id": "4RQir-8mtzb_"
      },
      "source": [
        "# Trabalho Prático de Ordenação - AED II\n",
        "\n",
        "**Carlos Gabriel da Silva Machado** - 1815080079\n",
        "\n",
        "**Victor Hugo Santos de Lima** - 1915080025"
      ]
    },
    {
      "cell_type": "markdown",
      "metadata": {
        "id": "BbGkNT0z0bJ6"
      },
      "source": [
        "# Montar Drive"
      ]
    },
    {
      "cell_type": "code",
      "metadata": {
        "id": "IHrzi8kjsWoG",
        "colab": {
          "base_uri": "https://localhost:8080/"
        },
        "outputId": "d44e0248-dc9e-43e7-81d0-c07668634d3d"
      },
      "source": [
        "from google.colab import drive\n",
        "drive.mount('/content/entradas')"
      ],
      "execution_count": null,
      "outputs": [
        {
          "output_type": "stream",
          "text": [
            "Mounted at /content/entradas\n"
          ],
          "name": "stdout"
        }
      ]
    },
    {
      "cell_type": "markdown",
      "metadata": {
        "id": "s8Wu4m6D6MQD"
      },
      "source": [
        "# Definição do Valor do Parâmetro N"
      ]
    },
    {
      "cell_type": "markdown",
      "metadata": {
        "id": "hbNdnHyG6RoX"
      },
      "source": [
        "N = 50\n",
        "\n"
      ]
    },
    {
      "cell_type": "markdown",
      "metadata": {
        "id": "u7I6JVjJKUft"
      },
      "source": [
        "O <strong><i>N</i></strong> foi definido a partir de vários testes feitos durante o desenvolvimento do trabalho"
      ]
    },
    {
      "cell_type": "markdown",
      "metadata": {
        "id": "O7V5Nynhxu87"
      },
      "source": [
        "# Setup do Ambiente\n"
      ]
    },
    {
      "cell_type": "code",
      "metadata": {
        "id": "TjCP6Qkq1eAN"
      },
      "source": [
        "def lerArquivo(nomeArq, N):\n",
        "    file = open(nomeArq, 'r') # abre o arquivo\n",
        "\n",
        "    aux = []\n",
        "    res = []\n",
        "\n",
        "    for i in file.readlines(): # Lê cada linha do arquivo e armazena em aux\n",
        "        aux.append(int(i))\n",
        "    \n",
        "    for i in range(0, len(aux), N): # Divide aux em sub-listas de tamanho N\n",
        "        res.append(aux[i:i+N])\n",
        "\n",
        "    file.close()\n",
        "\n",
        "    return res # retorna uma lista de listas de tamanho N"
      ],
      "execution_count": null,
      "outputs": []
    },
    {
      "cell_type": "code",
      "metadata": {
        "id": "tIiMk85CezSJ"
      },
      "source": [
        "def lerArquivo2(documento: str):\n",
        "    arquivo = open(documento, 'r')\n",
        "    valores = []\n",
        "    for i in arquivo.readlines():\n",
        "        valores.append(int(i))\n",
        "    arquivo.close()\n",
        "    return valores"
      ],
      "execution_count": null,
      "outputs": []
    },
    {
      "cell_type": "code",
      "metadata": {
        "id": "KyvrOCKr1IhE",
        "colab": {
          "base_uri": "https://localhost:8080/"
        },
        "outputId": "fb0abaeb-817c-4d9a-b541-f976f7cc051e"
      },
      "source": [
        "# Carlos, importa tudo que tu vai precisar aqui, tipo o matplotlib\n",
        "!pip install --upgrade plotly\n",
        "!pip install jupyter-dash\n",
        "\n",
        "import time\n",
        "import numpy as np\n",
        "import matplotlib.pyplot as plt\n",
        "import plotly.express as px\n",
        "import plotly.graph_objects as go\n",
        "\n",
        "\n",
        "\n",
        "N = 50 # Definição do valor do parâmetro N\n",
        "\n",
        "# Definição das Listas a Serem Ordenadas\n",
        "# G1 - grafico que os valores da lista estão bagunçados.\n",
        "# G2 - gráfico que os valores estão  ordenados de forma crescente.\n",
        "# G3 - gráfico que os valores estão ordenados de forma decrescente.\n",
        "\n",
        "g1_tim_sort1 = lerArquivo(\"/content/entradas/Shareddrives/T1AED2Entradas/G1-10.txt\", N)\n",
        "g1_tim_sort2 = lerArquivo(\"/content/entradas/Shareddrives/T1AED2Entradas/G1-100.txt\", N)\n",
        "g1_tim_sort3 = lerArquivo(\"/content/entradas/Shareddrives/T1AED2Entradas/G1-10000.txt\", N)\n",
        "g1_tim_sort4 = lerArquivo(\"/content/entradas/Shareddrives/T1AED2Entradas/G1-100000.txt\", N)\n",
        "g1_tim_sort5 = lerArquivo(\"/content/entradas/Shareddrives/T1AED2Entradas/G1-1000000.txt\", N)\n",
        "\n",
        "g2_tim_sort1 = lerArquivo(\"/content/entradas/Shareddrives/T1AED2Entradas/G2-10.txt\", N)\n",
        "g2_tim_sort2 = lerArquivo(\"/content/entradas/Shareddrives/T1AED2Entradas/G2-100.txt\", N)\n",
        "g2_tim_sort3 = lerArquivo(\"/content/entradas/Shareddrives/T1AED2Entradas/G2-10000.txt\", N)\n",
        "g2_tim_sort4 = lerArquivo(\"/content/entradas/Shareddrives/T1AED2Entradas/G2-100000.txt\", N)\n",
        "g2_tim_sort5 = lerArquivo(\"/content/entradas/Shareddrives/T1AED2Entradas/G2-1000000.txt\", N)\n",
        "\n",
        "g3_tim_sort1 = lerArquivo(\"/content/entradas/Shareddrives/T1AED2Entradas/G3-10.txt\", N)\n",
        "g3_tim_sort2 = lerArquivo(\"/content/entradas/Shareddrives/T1AED2Entradas/G3-100.txt\", N)\n",
        "g3_tim_sort3 = lerArquivo(\"/content/entradas/Shareddrives/T1AED2Entradas/G3-10000.txt\", N)\n",
        "g3_tim_sort4 = lerArquivo(\"/content/entradas/Shareddrives/T1AED2Entradas/G3-100000.txt\", N)\n",
        "g3_tim_sort5 = lerArquivo(\"/content/entradas/Shareddrives/T1AED2Entradas/G3-1000000.txt\", N)\n",
        "\n",
        "g1_merge1 = g1_insertion1 = g1_python_sort1 = lerArquivo2(\"/content/entradas/Shareddrives/T1AED2Entradas/G1-10.txt\")\n",
        "g1_merge2 = g1_insertion2 = g1_python_sort2 = lerArquivo2(\"/content/entradas/Shareddrives/T1AED2Entradas/G1-100.txt\")\n",
        "g1_merge3 = g1_insertion3 = g1_python_sort3 = lerArquivo2(\"/content/entradas/Shareddrives/T1AED2Entradas/G1-10000.txt\")\n",
        "g1_merge4 = g1_insertion4 = g1_python_sort4 = lerArquivo2(\"/content/entradas/Shareddrives/T1AED2Entradas/G1-100000.txt\")\n",
        "g1_merge5 = g1_insertion5 = g1_python_sort5 = lerArquivo2(\"/content/entradas/Shareddrives/T1AED2Entradas/G1-1000000.txt\") \n",
        "\n",
        "g2_merge1 = g2_insertion1 = g2_python_sort1 = lerArquivo2(\"/content/entradas/Shareddrives/T1AED2Entradas/G2-10.txt\")\n",
        "g2_merge2 = g2_insertion2 = g2_python_sort2 = lerArquivo2(\"/content/entradas/Shareddrives/T1AED2Entradas/G2-100.txt\")\n",
        "g2_merge3 = g2_insertion3 = g2_python_sort3 = lerArquivo2(\"/content/entradas/Shareddrives/T1AED2Entradas/G2-10000.txt\")\n",
        "g2_merge4 = g2_insertion4 = g2_python_sort4 = lerArquivo2(\"/content/entradas/Shareddrives/T1AED2Entradas/G2-100000.txt\")\n",
        "g2_merge5 = g2_insertion5 = g2_python_sort5 = lerArquivo2(\"/content/entradas/Shareddrives/T1AED2Entradas/G2-1000000.txt\") \n",
        "\n",
        "g3_merge1 = g3_insertion1 = g3_python_sort1 = lerArquivo2(\"/content/entradas/Shareddrives/T1AED2Entradas/G3-10.txt\")\n",
        "g3_merge2 = g3_insertion2 = g3_python_sort2 = lerArquivo2(\"/content/entradas/Shareddrives/T1AED2Entradas/G3-100.txt\")\n",
        "g3_merge3 = g3_insertion3 = g3_python_sort3 = lerArquivo2(\"/content/entradas/Shareddrives/T1AED2Entradas/G3-10000.txt\")\n",
        "g3_merge4 = g3_insertion4 = g3_python_sort4 = lerArquivo2(\"/content/entradas/Shareddrives/T1AED2Entradas/G3-100000.txt\")\n",
        "g3_merge5 = g3_insertion5 = g3_python_sort5 = lerArquivo2(\"/content/entradas/Shareddrives/T1AED2Entradas/G3-1000000.txt\") \n",
        "\n",
        "# Listas que serão usadas para armazenar o tempo de execução de cada método de sort\n",
        "\n",
        "g_tim_sort = []\n",
        "\n",
        "g_insertion = []\n",
        "\n",
        "g_merge_sort = []\n",
        "\n",
        "g_python_sort = []"
      ],
      "execution_count": null,
      "outputs": [
        {
          "output_type": "stream",
          "text": [
            "Requirement already up-to-date: plotly in /usr/local/lib/python3.7/dist-packages (4.14.3)\n",
            "Requirement already satisfied, skipping upgrade: six in /usr/local/lib/python3.7/dist-packages (from plotly) (1.15.0)\n",
            "Requirement already satisfied, skipping upgrade: retrying>=1.3.3 in /usr/local/lib/python3.7/dist-packages (from plotly) (1.3.3)\n",
            "Requirement already satisfied: jupyter-dash in /usr/local/lib/python3.7/dist-packages (0.4.0)\n",
            "Requirement already satisfied: ansi2html in /usr/local/lib/python3.7/dist-packages (from jupyter-dash) (1.6.0)\n",
            "Requirement already satisfied: ipython in /usr/local/lib/python3.7/dist-packages (from jupyter-dash) (5.5.0)\n",
            "Requirement already satisfied: retrying in /usr/local/lib/python3.7/dist-packages (from jupyter-dash) (1.3.3)\n",
            "Requirement already satisfied: requests in /usr/local/lib/python3.7/dist-packages (from jupyter-dash) (2.23.0)\n",
            "Requirement already satisfied: ipykernel in /usr/local/lib/python3.7/dist-packages (from jupyter-dash) (4.10.1)\n",
            "Requirement already satisfied: dash in /usr/local/lib/python3.7/dist-packages (from jupyter-dash) (1.20.0)\n",
            "Requirement already satisfied: flask in /usr/local/lib/python3.7/dist-packages (from jupyter-dash) (1.1.2)\n",
            "Requirement already satisfied: simplegeneric>0.8 in /usr/local/lib/python3.7/dist-packages (from ipython->jupyter-dash) (0.8.1)\n",
            "Requirement already satisfied: pexpect; sys_platform != \"win32\" in /usr/local/lib/python3.7/dist-packages (from ipython->jupyter-dash) (4.8.0)\n",
            "Requirement already satisfied: pygments in /usr/local/lib/python3.7/dist-packages (from ipython->jupyter-dash) (2.6.1)\n",
            "Requirement already satisfied: pickleshare in /usr/local/lib/python3.7/dist-packages (from ipython->jupyter-dash) (0.7.5)\n",
            "Requirement already satisfied: traitlets>=4.2 in /usr/local/lib/python3.7/dist-packages (from ipython->jupyter-dash) (5.0.5)\n",
            "Requirement already satisfied: prompt-toolkit<2.0.0,>=1.0.4 in /usr/local/lib/python3.7/dist-packages (from ipython->jupyter-dash) (1.0.18)\n",
            "Requirement already satisfied: decorator in /usr/local/lib/python3.7/dist-packages (from ipython->jupyter-dash) (4.4.2)\n",
            "Requirement already satisfied: setuptools>=18.5 in /usr/local/lib/python3.7/dist-packages (from ipython->jupyter-dash) (56.1.0)\n",
            "Requirement already satisfied: six>=1.7.0 in /usr/local/lib/python3.7/dist-packages (from retrying->jupyter-dash) (1.15.0)\n",
            "Requirement already satisfied: certifi>=2017.4.17 in /usr/local/lib/python3.7/dist-packages (from requests->jupyter-dash) (2020.12.5)\n",
            "Requirement already satisfied: urllib3!=1.25.0,!=1.25.1,<1.26,>=1.21.1 in /usr/local/lib/python3.7/dist-packages (from requests->jupyter-dash) (1.24.3)\n",
            "Requirement already satisfied: idna<3,>=2.5 in /usr/local/lib/python3.7/dist-packages (from requests->jupyter-dash) (2.10)\n",
            "Requirement already satisfied: chardet<4,>=3.0.2 in /usr/local/lib/python3.7/dist-packages (from requests->jupyter-dash) (3.0.4)\n",
            "Requirement already satisfied: jupyter-client in /usr/local/lib/python3.7/dist-packages (from ipykernel->jupyter-dash) (5.3.5)\n",
            "Requirement already satisfied: tornado>=4.0 in /usr/local/lib/python3.7/dist-packages (from ipykernel->jupyter-dash) (5.1.1)\n",
            "Requirement already satisfied: dash-renderer==1.9.1 in /usr/local/lib/python3.7/dist-packages (from dash->jupyter-dash) (1.9.1)\n",
            "Requirement already satisfied: dash-html-components==1.1.3 in /usr/local/lib/python3.7/dist-packages (from dash->jupyter-dash) (1.1.3)\n",
            "Requirement already satisfied: plotly in /usr/local/lib/python3.7/dist-packages (from dash->jupyter-dash) (4.14.3)\n",
            "Requirement already satisfied: dash-core-components==1.16.0 in /usr/local/lib/python3.7/dist-packages (from dash->jupyter-dash) (1.16.0)\n",
            "Requirement already satisfied: future in /usr/local/lib/python3.7/dist-packages (from dash->jupyter-dash) (0.16.0)\n",
            "Requirement already satisfied: dash-table==4.11.3 in /usr/local/lib/python3.7/dist-packages (from dash->jupyter-dash) (4.11.3)\n",
            "Requirement already satisfied: flask-compress in /usr/local/lib/python3.7/dist-packages (from dash->jupyter-dash) (1.9.0)\n",
            "Requirement already satisfied: itsdangerous>=0.24 in /usr/local/lib/python3.7/dist-packages (from flask->jupyter-dash) (2.0.0)\n",
            "Requirement already satisfied: Jinja2>=2.10.1 in /usr/local/lib/python3.7/dist-packages (from flask->jupyter-dash) (2.11.3)\n",
            "Requirement already satisfied: Werkzeug>=0.15 in /usr/local/lib/python3.7/dist-packages (from flask->jupyter-dash) (2.0.0)\n",
            "Requirement already satisfied: click>=5.1 in /usr/local/lib/python3.7/dist-packages (from flask->jupyter-dash) (8.0.0)\n",
            "Requirement already satisfied: ptyprocess>=0.5 in /usr/local/lib/python3.7/dist-packages (from pexpect; sys_platform != \"win32\"->ipython->jupyter-dash) (0.7.0)\n",
            "Requirement already satisfied: ipython-genutils in /usr/local/lib/python3.7/dist-packages (from traitlets>=4.2->ipython->jupyter-dash) (0.2.0)\n",
            "Requirement already satisfied: wcwidth in /usr/local/lib/python3.7/dist-packages (from prompt-toolkit<2.0.0,>=1.0.4->ipython->jupyter-dash) (0.2.5)\n",
            "Requirement already satisfied: python-dateutil>=2.1 in /usr/local/lib/python3.7/dist-packages (from jupyter-client->ipykernel->jupyter-dash) (2.8.1)\n",
            "Requirement already satisfied: pyzmq>=13 in /usr/local/lib/python3.7/dist-packages (from jupyter-client->ipykernel->jupyter-dash) (22.0.3)\n",
            "Requirement already satisfied: jupyter-core>=4.6.0 in /usr/local/lib/python3.7/dist-packages (from jupyter-client->ipykernel->jupyter-dash) (4.7.1)\n",
            "Requirement already satisfied: brotli in /usr/local/lib/python3.7/dist-packages (from flask-compress->dash->jupyter-dash) (1.0.9)\n",
            "Requirement already satisfied: MarkupSafe>=0.23 in /usr/local/lib/python3.7/dist-packages (from Jinja2>=2.10.1->flask->jupyter-dash) (2.0.0)\n"
          ],
          "name": "stdout"
        }
      ]
    },
    {
      "cell_type": "markdown",
      "metadata": {
        "id": "0rBv5oRmSzjX"
      },
      "source": [
        "# Algoritmos de Ordenação\n"
      ]
    },
    {
      "cell_type": "markdown",
      "metadata": {
        "id": "P7SVQx-rlf9t"
      },
      "source": [
        "**Tim Sort**"
      ]
    },
    {
      "cell_type": "code",
      "metadata": {
        "id": "oitY7L_cljVU"
      },
      "source": [
        "# O(N * log(N))\n",
        "def Insertion_Sort(lista):\n",
        "    n = len(lista)\n",
        "    for i in range(1, n):\n",
        "        valor = lista[i] # valor recebe o valor atual\n",
        "        j = i - 1 \n",
        "        while j >= 0:\n",
        "            if valor > lista[j]: # itera para trás enquanto o valor for menor que o atual\n",
        "                break\n",
        "\n",
        "            lista[j + 1] = lista[j] # desloca a lista para a direita\n",
        "            j -= 1\n",
        "        lista[j + 1] = valor\n",
        "\n",
        "\n",
        "def Merge_Sort(lista):\n",
        "    i = 0\n",
        "\n",
        "    while len(lista) > 1:\n",
        "        aux = []\n",
        "\n",
        "        # reseta o valor de i caso ele tenha chegado ao final\n",
        "        if(i + 1 >= len(lista)):\n",
        "            i = 0\n",
        "\n",
        "        # topo da sub-lista i\n",
        "        top_left = 0\n",
        "        # topo da sub-lista i + 1\n",
        "        top_right = 0\n",
        "\n",
        "        while top_left < len(lista[i]) and top_right < len(lista[i + 1]):\n",
        "            # Compara o topo das duas pilhas\n",
        "            if lista[i][top_left] < lista[i + 1][top_right]:\n",
        "                aux.append(lista[i][top_left])\n",
        "                top_left += 1\n",
        "            else:\n",
        "                aux.append(lista[i + 1][top_right])\n",
        "                top_right += 1\n",
        "\n",
        "        # adiciona os elementos restantes da sub-lista i e i + 1\n",
        "        aux.extend(lista[i][top_left:])\n",
        "        aux.extend(lista[i + 1][top_right:])\n",
        "        \n",
        "        # remove as sub-listas as quais os valores foram migrados para aux            \n",
        "        lista.remove(lista[i])\n",
        "        lista.remove(lista[i])\n",
        "\n",
        "        # insere aux na posição que ficava a sub-lista i\n",
        "        lista.insert(i, aux)\n",
        "\n",
        "        i += 1\n",
        "    return lista[0]\n",
        "\n",
        "\n",
        "def tim_sort(lista):\n",
        "    start = time.time()\n",
        "\n",
        "    for i in lista:\n",
        "       Insertion_Sort(i) # Insertion_Sort irá ordenar cada sub-lista em lista \n",
        "       \n",
        "    lista = Merge_Sort(lista)\n",
        "\n",
        "    end = time.time()\n",
        "\n",
        "    g_tim_sort.append(round(end - start, 6))\n",
        "\n",
        "    return lista  # Merge_Sort irá juntar as sublistas e ordená-las,\n",
        "                  # além de devolver uma única lista ordenada\n"
      ],
      "execution_count": null,
      "outputs": []
    },
    {
      "cell_type": "markdown",
      "metadata": {
        "id": "TB-DM9EF53u6"
      },
      "source": [
        "**Insertion Sort** "
      ]
    },
    {
      "cell_type": "code",
      "metadata": {
        "id": "q2nIxxprbfCW"
      },
      "source": [
        "# O(N²)\n",
        "def insertion_sort(lista: list) -> list:\n",
        "    # O algoritmo de insertion sort retorna uma lista ordenada\n",
        "    start = time.time()\n",
        "    tam_lista = len(lista)\n",
        "    for i in range(1, tam_lista):\n",
        "        # toma como valor a ser ordenado a chave\n",
        "        chave = lista[i]\n",
        "        j = i - 1\n",
        "        while j >= 0 and lista[j] > chave:\n",
        "            # faz comparações para identificar a posição da chave\n",
        "            # caso a chave troque de posição a lista é deslocada\n",
        "            # para a direita.\n",
        "            lista[j + 1] = lista[j]\n",
        "            j -= 1\n",
        "        lista[j + 1] = chave\n",
        "    end = time.time()\n",
        "    g_insertion.append(round(end - start, 6))\n",
        "    return lista"
      ],
      "execution_count": null,
      "outputs": []
    },
    {
      "cell_type": "markdown",
      "metadata": {
        "id": "V8p78oSy57W8"
      },
      "source": [
        "**Merge Sort**"
      ]
    },
    {
      "cell_type": "code",
      "metadata": {
        "id": "Mt1RHuSogXUt"
      },
      "source": [
        "# O(N * log(N))\n",
        "def merge(lista: list, inicio: int, meio: int, fim: int) -> list:\n",
        "    # separar a lista da direita e a lista da esquerda\n",
        "    lista_esquerda = lista[inicio:meio]\n",
        "    lista_direita = lista[meio:fim]\n",
        "\n",
        "    # definir a posição inicial do topo das duas listas\n",
        "    # (direita e esquerda)\n",
        "    topo_esquerdo, topo_direito = (0, 0)\n",
        "    for i in range(inicio, fim):\n",
        "        # caso o eleento do topo das listas (direita ou esqueda)\n",
        "        # seja um elemento vazio será aproveitado a lista que tiver\n",
        "        # mais elementos.\n",
        "        # outro caso é analisar qual número do topo da lista é o maior\n",
        "        if topo_esquerdo >= len(lista_esquerda):\n",
        "            lista[i] = lista_direita[topo_direito]\n",
        "            topo_direito = topo_direito + 1\n",
        "        elif topo_direito >= len(lista_direita):\n",
        "            lista[i] = lista_esquerda[topo_esquerdo]\n",
        "            topo_esquerdo = topo_esquerdo + 1\n",
        "        elif lista_esquerda[topo_esquerdo] < lista_direita[topo_direito]:\n",
        "            lista[i] = lista_esquerda[topo_esquerdo]\n",
        "            topo_esquerdo = topo_esquerdo + 1\n",
        "        else:\n",
        "            lista[i] = lista_direita[topo_direito]\n",
        "            topo_direito = topo_direito + 1\n",
        "    return lista"
      ],
      "execution_count": null,
      "outputs": []
    },
    {
      "cell_type": "code",
      "metadata": {
        "id": "z6CAyNNajwno"
      },
      "source": [
        "def merge_sort(lista: list, inicio: int = 0, fim: int = None) -> list:\n",
        "    if fim is None:\n",
        "        fim = len(lista)\n",
        "    if fim - inicio > 1:\n",
        "        meio = (inicio + fim) // 2\n",
        "        # fazer divisões multiplas em listas da direita e esquerda\n",
        "        merge_sort(lista, inicio, meio)\n",
        "        merge_sort(lista, meio, fim)\n",
        "        # juntar as sublistas geradas e organizando os seus valores\n",
        "        # em ordem crescente.\n",
        "        return merge(lista, inicio, meio, fim)"
      ],
      "execution_count": null,
      "outputs": []
    },
    {
      "cell_type": "markdown",
      "metadata": {
        "id": "8vt9-uIAj0c8"
      },
      "source": [
        "**Sort do Python**"
      ]
    },
    {
      "cell_type": "code",
      "metadata": {
        "id": "iUT0mgjqj3kg"
      },
      "source": [
        "def pythonSort(lista: list) -> list:\n",
        "\n",
        "    start = time.time()\n",
        "    lista.sort()\n",
        "    end = time.time()\n",
        "\n",
        "    g_python_sort.append(round(end - start, 6))\n",
        "\n",
        "    return lista"
      ],
      "execution_count": null,
      "outputs": []
    },
    {
      "cell_type": "markdown",
      "metadata": {
        "id": "yxEUA3OTGP-B"
      },
      "source": [
        "# Cria Arquivos com Valores Ordenadas\n"
      ]
    },
    {
      "cell_type": "markdown",
      "metadata": {
        "id": "HMMxzElhWPFJ"
      },
      "source": [
        "Função que Cria Arquivos com as Listas Ordenadas\n"
      ]
    },
    {
      "cell_type": "code",
      "metadata": {
        "id": "0aWCw4LsWsex"
      },
      "source": [
        "def criarArq(lista, nomeArq):\n",
        "    file = open(\"/content/entradas/Shareddrives/T1AED2Entradas/SaidasOrdenadas/\" + nomeArq + \".txt\", 'w+')\n",
        "    \n",
        "    for i in lista:\n",
        "        file.write(str(i) + \"\\n\")\n",
        "\n",
        "    file.close()"
      ],
      "execution_count": null,
      "outputs": []
    },
    {
      "cell_type": "markdown",
      "metadata": {
        "id": "obhr_eIcGypg"
      },
      "source": [
        "Entrada de Dados para Ordenação"
      ]
    },
    {
      "cell_type": "code",
      "metadata": {
        "id": "MNbZDZv-eWSR"
      },
      "source": [
        "# TIMSORT\n",
        "\n",
        "g1_tim_sort1 = tim_sort(g1_tim_sort1)\n",
        "g1_tim_sort2 = tim_sort(g1_tim_sort2)\n",
        "g1_tim_sort3 = tim_sort(g1_tim_sort3)\n",
        "g1_tim_sort4 = tim_sort(g1_tim_sort4)\n",
        "g1_tim_sort5 = tim_sort(g1_tim_sort5)\n",
        "\n",
        "g2_tim_sort1 = tim_sort(g2_tim_sort1)\n",
        "g2_tim_sort2 = tim_sort(g2_tim_sort2)\n",
        "g2_tim_sort3 = tim_sort(g2_tim_sort3)\n",
        "g2_tim_sort4 = tim_sort(g2_tim_sort4)\n",
        "g2_tim_sort5 = tim_sort(g2_tim_sort5)\n",
        "\n",
        "g3_tim_sort1 = tim_sort(g3_tim_sort1)\n",
        "g3_tim_sort2 = tim_sort(g3_tim_sort2)\n",
        "g3_tim_sort3 = tim_sort(g3_tim_sort3)\n",
        "g3_tim_sort4 = tim_sort(g3_tim_sort4)\n",
        "g3_tim_sort5 = tim_sort(g3_tim_sort5)\n",
        "\n",
        "\n",
        "criarArq(g1_tim_sort1, \"g1_tim_sort1\") \n",
        "criarArq(g1_tim_sort2, \"g1_tim_sort2\")\n",
        "criarArq(g1_tim_sort3, \"g1_tim_sort3\")\n",
        "criarArq(g1_tim_sort4, \"g1_tim_sort4\")\n",
        "criarArq(g1_tim_sort5, \"g1_tim_sort5\")\n",
        "\n",
        "criarArq(g2_tim_sort1, \"g2_tim_sort1\") \n",
        "criarArq(g2_tim_sort2, \"g2_tim_sort2\")\n",
        "criarArq(g2_tim_sort3, \"g2_tim_sort3\")\n",
        "criarArq(g2_tim_sort4, \"g2_tim_sort4\")\n",
        "criarArq(g2_tim_sort5, \"g2_tim_sort5\")\n",
        "\n",
        "criarArq(g3_tim_sort1, \"g3_tim_sort1\") \n",
        "criarArq(g3_tim_sort2, \"g3_tim_sort2\")\n",
        "criarArq(g3_tim_sort3, \"g3_tim_sort3\")\n",
        "criarArq(g3_tim_sort4, \"g3_tim_sort4\")\n",
        "criarArq(g3_tim_sort5, \"g3_tim_sort5\")\n",
        "\n",
        "\"\"\"\n",
        "# Insertion Sort\n",
        "\n",
        "g1_insertion1 = insertion_sort(g1_insertion1)\n",
        "print(g1_insertion1)\n",
        "g1_insertion2 = insertion_sort(g1_insertion2)\n",
        "g1_insertion3 = insertion_sort(g1_insertion3)\n",
        "g1_insertion4 = insertion_sort(g1_insertion4)\n",
        "# g1_insertion5 = insertion_sort(g1_insertion5)\n",
        "\n",
        "g2_insertion1 = insertion_sort(g2_insertion1)\n",
        "g2_insertion2 = insertion_sort(g2_insertion2)\n",
        "g2_insertion3 = insertion_sort(g2_insertion3)\n",
        "g2_insertion4 = insertion_sort(g2_insertion4)\n",
        "g2_insertion5 = insertion_sort(g2_insertion5)\n",
        "\n",
        "g3_insertion1 = insertion_sort(g3_insertion1)\n",
        "g3_insertion2 = insertion_sort(g3_insertion2)\n",
        "g3_insertion3 = insertion_sort(g3_insertion3)\n",
        "g3_insertion4 = insertion_sort(g3_insertion4)\n",
        "# g3_insertion5 = insertion_sort(g3_insertion5)\n",
        "\n",
        "\n",
        "#criarArq(g1_insertion1, \"g1_insertion1\") \n",
        "#criarArq(g1_insertion2, \"g1_insertion2\")\n",
        "#criarArq(g1_insertion3, \"g1_insertion3\")\n",
        "#criarArq(g1_insertion4, \"g1_insertion4\")\n",
        "#criarArq(g1_insertion5, \"g1_insertion5\")\n",
        "\n",
        "#criarArq(g2_insertion1, \"g2_insertion1\") \n",
        "#criarArq(g2_insertion2, \"g2_insertion2\")\n",
        "#criarArq(g2_insertion3, \"g2_insertion3\")\n",
        "#criarArq(g2_insertion4, \"g2_insertion4\")\n",
        "#criarArq(g2_insertion5, \"g2_insertion5\")\n",
        "\n",
        "#criarArq(g3_insertion1, \"g3_insertion1\") \n",
        "#criarArq(g3_insertion2, \"g3_insertion2\")\n",
        "#criarArq(g3_insertion3, \"g3_insertion3\")\n",
        "#criarArq(g3_insertion4, \"g3_insertion4\")\n",
        "#criarArq(g3_insertion5, \"g3_insertion5\")\n",
        "\"\"\"\n",
        "\n",
        "\n",
        "# Merge Sort\n",
        "\n",
        "start = time.time()\n",
        "g1_merge1 = merge_sort(g1_merge1)\n",
        "end = time.time()\n",
        "g_merge_sort.append(round(end - start, 6))\n",
        "\n",
        "start = time.time()\n",
        "g1_merge2 = merge_sort(g1_merge2)\n",
        "end = time.time()\n",
        "g_merge_sort.append(round(end - start, 6))\n",
        "\n",
        "start = time.time()\n",
        "g1_merge3 = merge_sort(g1_merge3)\n",
        "end = time.time()\n",
        "g_merge_sort.append(round(end - start, 6))\n",
        "\n",
        "start = time.time()\n",
        "g1_merge4 = merge_sort(g1_merge4)\n",
        "end = time.time()\n",
        "g_merge_sort.append(round(end - start, 6))\n",
        "\n",
        "start = time.time()\n",
        "g1_merge5 = merge_sort(g1_merge5)\n",
        "end = time.time()\n",
        "g_merge_sort.append(round(end - start, 6))\n",
        "\n",
        "\n",
        "start = time.time()\n",
        "g2_merge1 = merge_sort(g2_merge1)\n",
        "end = time.time()\n",
        "g_merge_sort.append(round(end - start, 6))\n",
        "\n",
        "start = time.time()\n",
        "g2_merge2 = merge_sort(g2_merge2)\n",
        "end = time.time()\n",
        "g_merge_sort.append(round(end - start, 6))\n",
        "\n",
        "start = time.time()\n",
        "g2_merge3 = merge_sort(g2_merge3)\n",
        "end = time.time()\n",
        "g_merge_sort.append(round(end - start, 6))\n",
        "\n",
        "start = time.time()\n",
        "g2_merge4 = merge_sort(g2_merge4)\n",
        "end = time.time()\n",
        "g_merge_sort.append(round(end - start, 6))\n",
        "\n",
        "start = time.time()\n",
        "g2_merge5 = merge_sort(g2_merge5)\n",
        "end = time.time()\n",
        "g_merge_sort.append(round(end - start, 6))\n",
        "\n",
        "\n",
        "start = time.time()\n",
        "g3_merge1 = merge_sort(g3_merge1)\n",
        "end = time.time()\n",
        "g_merge_sort.append(round(end - start, 6))\n",
        "\n",
        "start = time.time()\n",
        "g3_merge2 = merge_sort(g3_merge2)\n",
        "end = time.time()\n",
        "g_merge_sort.append(round(end - start, 6))\n",
        "\n",
        "start = time.time()\n",
        "g3_merge3 = merge_sort(g3_merge3)\n",
        "end = time.time()\n",
        "g_merge_sort.append(round(end - start, 6))\n",
        "\n",
        "start = time.time()\n",
        "g3_merge4 = merge_sort(g3_merge4)\n",
        "end = time.time()\n",
        "g_merge_sort.append(round(end - start, 6))\n",
        "\n",
        "start = time.time()\n",
        "g3_merge5 = merge_sort(g3_merge5)\n",
        "end = time.time()\n",
        "g_merge_sort.append(round(end - start, 6))\n",
        "\n",
        "criarArq(g1_merge1, \"g1_merge1\")\n",
        "criarArq(g1_merge2, \"g1_merge2\")\n",
        "criarArq(g1_merge3, \"g1_merge3\")\n",
        "criarArq(g1_merge4, \"g1_merge4\")\n",
        "criarArq(g1_merge5, \"g1_merge5\")\n",
        "\n",
        "criarArq(g2_merge1, \"g2_merge1\")\n",
        "criarArq(g2_merge2, \"g2_merge2\")\n",
        "criarArq(g2_merge3, \"g2_merge3\")\n",
        "criarArq(g2_merge4, \"g2_merge4\")\n",
        "criarArq(g2_merge5, \"g2_merge5\")\n",
        "\n",
        "criarArq(g3_merge1, \"g3_merge1\")\n",
        "criarArq(g3_merge2, \"g3_merge2\")\n",
        "criarArq(g3_merge3, \"g3_merge3\")\n",
        "criarArq(g3_merge4, \"g3_merge4\")\n",
        "criarArq(g3_merge5, \"g3_merge5\")\n",
        "\n",
        "\n",
        "# Sort do Python\n",
        "\n",
        "g1_python_sort1 = pythonSort(g1_python_sort1)\n",
        "g1_python_sort2 = pythonSort(g1_python_sort2)\n",
        "g1_python_sort3 = pythonSort(g1_python_sort3)\n",
        "g1_python_sort4 = pythonSort(g1_python_sort4)\n",
        "g1_python_sort5 = pythonSort(g1_python_sort5)\n",
        "\n",
        "g2_python_sort1 = pythonSort(g2_python_sort1)\n",
        "g2_python_sort2 = pythonSort(g2_python_sort2)\n",
        "g2_python_sort3 = pythonSort(g2_python_sort3)\n",
        "g2_python_sort4 = pythonSort(g2_python_sort4)\n",
        "g2_python_sort5 = pythonSort(g2_python_sort5)\n",
        "\n",
        "g3_python_sort1 = pythonSort(g3_python_sort1)\n",
        "g3_python_sort2 = pythonSort(g3_python_sort2)\n",
        "g3_python_sort3 = pythonSort(g3_python_sort3)\n",
        "g3_python_sort4 = pythonSort(g3_python_sort4)\n",
        "g3_python_sort5 = pythonSort(g3_python_sort5)\n",
        "\n",
        "\n",
        "criarArq(g1_python_sort1, \"g1_python_sort1\")\n",
        "criarArq(g1_python_sort2, \"g1_python_sort2\")\n",
        "criarArq(g1_python_sort3, \"g1_python_sort3\")\n",
        "criarArq(g1_python_sort4, \"g1_python_sort4\")\n",
        "criarArq(g1_python_sort5, \"g1_python_sort5\")\n",
        "\n",
        "criarArq(g2_python_sort1, \"g2_python_sort1\")\n",
        "criarArq(g2_python_sort2, \"g2_python_sort2\")\n",
        "criarArq(g2_python_sort3, \"g2_python_sort3\")\n",
        "criarArq(g2_python_sort4, \"g2_python_sort4\")\n",
        "criarArq(g2_python_sort5, \"g2_python_sort5\")\n",
        "\n",
        "criarArq(g3_python_sort1, \"g3_python_sort1\")\n",
        "criarArq(g3_python_sort2, \"g3_python_sort2\")\n",
        "criarArq(g3_python_sort3, \"g3_python_sort3\")\n",
        "criarArq(g3_python_sort4, \"g3_python_sort4\")\n",
        "criarArq(g3_python_sort5, \"g3_python_sort5\")"
      ],
      "execution_count": null,
      "outputs": []
    },
    {
      "cell_type": "markdown",
      "metadata": {
        "id": "Fx84ogAgKbCt"
      },
      "source": [
        "# Gráficos de Desempenho"
      ]
    },
    {
      "cell_type": "markdown",
      "metadata": {
        "id": "39QwC05EmGQ1"
      },
      "source": [
        "**Tamanho das Listas**"
      ]
    },
    {
      "cell_type": "code",
      "metadata": {
        "id": "laq6lB_rbx70"
      },
      "source": [
        "# bibliotecas importadas, agora só falta definir a base de dados.\n",
        "tam_listas = [\n",
        "    \"10\",\n",
        "    \"100\",\n",
        "    \"10000\",\n",
        "    \"100000\",\n",
        "    \"1000000\"\n",
        "]"
      ],
      "execution_count": null,
      "outputs": []
    },
    {
      "cell_type": "markdown",
      "metadata": {
        "id": "KRt_xiSamKfH"
      },
      "source": [
        "**Todos os tempo do Insertion Sort**"
      ]
    },
    {
      "cell_type": "code",
      "metadata": {
        "id": "jpZeSDukmPUx"
      },
      "source": [
        "g_insertion = [\n",
        "    1.4e-05,\n",
        "    0.000491,\n",
        "    5.954151,\n",
        "    802.939387,\n",
        "    43200,\n",
        "    8e-06,\n",
        "    2.5e-05,\n",
        "    0.002608,\n",
        "    0.024906,\n",
        "    0.260154,\n",
        "    1.8e-05,\n",
        "    0.000976,\n",
        "    11.242492,\n",
        "    1150.285365,\n",
        "    43200\n",
        "]\n",
        "\n",
        "g_insertion = np.log1p(g_insertion)"
      ],
      "execution_count": null,
      "outputs": []
    },
    {
      "cell_type": "markdown",
      "metadata": {
        "id": "ljY37X-pmQuI"
      },
      "source": [
        "**Todos os tempos do Merge Sort**"
      ]
    },
    {
      "cell_type": "code",
      "metadata": {
        "id": "bI5SlfdYptft"
      },
      "source": [
        "g_merge_sort = [\n",
        "    0.000125,\n",
        "    0.001964,\n",
        "    0.066049,\n",
        "    0.850196,\n",
        "    11.359957,\n",
        "    6.8e-05,\n",
        "    0.00032,\n",
        "    0.078892,\n",
        "    0.634922,\n",
        "    7.300681,\n",
        "    6.9e-05,\n",
        "    0.000338,\n",
        "    0.062324,\n",
        "    0.68429,\n",
        "    8.085543\n",
        "]\n",
        "\n",
        "g_merge_sort = np.log1p(g_merge_sort)"
      ],
      "execution_count": null,
      "outputs": []
    },
    {
      "cell_type": "markdown",
      "metadata": {
        "id": "7QE6sfnzmVZZ"
      },
      "source": [
        "**Todos os tempos do Python Sort**"
      ]
    },
    {
      "cell_type": "code",
      "metadata": {
        "id": "4sQBaOO5qQDa"
      },
      "source": [
        "g_python_sort = [5e-06,\n",
        "    4e-06,\n",
        "    0.000368,\n",
        "    0.006421,\n",
        "    0.066203,\n",
        "    2e-06,\n",
        "    2e-06,\n",
        "    8.4e-05,\n",
        "    0.001095,\n",
        "    0.012573,\n",
        "    2e-06,\n",
        "    2e-06,\n",
        "    9.4e-05,\n",
        "    0.001235,\n",
        "    0.013602\n",
        "]\n",
        "\n",
        "g_python_sort = np.log1p(g_python_sort)"
      ],
      "execution_count": null,
      "outputs": []
    },
    {
      "cell_type": "markdown",
      "metadata": {
        "id": "Jh47pCYOqdcN"
      },
      "source": [
        "**Todos os tempo do Tim Sort**"
      ]
    },
    {
      "cell_type": "code",
      "metadata": {
        "id": "eL-e1qAyqjdX"
      },
      "source": [
        "g_tim_sort = [\n",
        "    1.8e-05,\n",
        "    0.000301,\n",
        "    0.083467,\n",
        "    1.093028,\n",
        "    16.087483,\n",
        "    1.1e-05,\n",
        "    7.3e-05,\n",
        "    0.028399,\n",
        "    0.406741,\n",
        "    7.743585,\n",
        "    1.9e-05,\n",
        "    0.000493,\n",
        "    0.068827,\n",
        "    0.824118,\n",
        "    11.391053\n",
        "]\n",
        "\n",
        "g_tim_sort = np.log1p(g_tim_sort)"
      ],
      "execution_count": null,
      "outputs": []
    },
    {
      "cell_type": "code",
      "metadata": {
        "colab": {
          "base_uri": "https://localhost:8080/"
        },
        "id": "Jp4ob-bpxfMH",
        "outputId": "208e500e-a41e-4b03-de78-8116fee440a3"
      },
      "source": [
        "#criando o gráfico de G1\n",
        "\n",
        "passo = 5\n",
        "\n",
        "fig = go.Figure()\n",
        "\n",
        "fig.add_trace(\n",
        "    go.Scatter(\n",
        "        name = \"Insertion Sort\",\n",
        "        x = tam_listas,\n",
        "        y = g_insertion[:passo]\n",
        "    )\n",
        ")\n",
        "\n",
        "fig.add_trace(\n",
        "    go.Scatter(\n",
        "        name = \"Merge Sort\",\n",
        "        x = tam_listas,\n",
        "        y = g_merge_sort[:passo] \n",
        "    )\n",
        ")\n",
        "\n",
        "\n",
        "fig.add_trace(\n",
        "    go.Scatter(\n",
        "        name = \"Python Sort\",\n",
        "        x = tam_listas,\n",
        "        y = g_python_sort[:passo] \n",
        "    )\n",
        ")\n",
        "\n",
        "fig.add_trace(\n",
        "    go.Scatter(\n",
        "        name = \"Tim Sort\",\n",
        "        x = tam_listas,\n",
        "        y = g_tim_sort[:passo] \n",
        "    )\n",
        ")\n",
        "\n",
        "fig.update_layout(title_text='Gráfico de G1')\n",
        "fig.update_layout(\n",
        "    xaxis_title = \"Tamanho da Lista\",\n",
        "    yaxis_title = \"Tempo (s)\"\n",
        ")\n",
        "\n",
        "fig.show()"
      ],
      "execution_count": null,
      "outputs": [
        {
          "output_type": "display_data",
          "data": {
            "text/html": [
              "<html>\n",
              "<head><meta charset=\"utf-8\" /></head>\n",
              "<body>\n",
              "    <div>            <script src=\"https://cdnjs.cloudflare.com/ajax/libs/mathjax/2.7.5/MathJax.js?config=TeX-AMS-MML_SVG\"></script><script type=\"text/javascript\">if (window.MathJax) {MathJax.Hub.Config({SVG: {font: \"STIX-Web\"}});}</script>                <script type=\"text/javascript\">window.PlotlyConfig = {MathJaxConfig: 'local'};</script>\n",
              "        <script src=\"https://cdn.plot.ly/plotly-latest.min.js\"></script>                <div id=\"bacb3bf2-536f-4037-be8b-fc7586acebea\" class=\"plotly-graph-div\" style=\"height:525px; width:100%;\"></div>            <script type=\"text/javascript\">                                    window.PLOTLYENV=window.PLOTLYENV || {};                                    if (document.getElementById(\"bacb3bf2-536f-4037-be8b-fc7586acebea\")) {                    Plotly.newPlot(                        \"bacb3bf2-536f-4037-be8b-fc7586acebea\",                        [{\"name\": \"Insertion Sort\", \"type\": \"scatter\", \"x\": [\"10\", \"100\", \"10000\", \"100000\", \"1000000\"], \"y\": [1.3999902000914657e-05, 0.0004908794989423994, 1.9393387474712906, 6.689523877033567, 10.673618922112436]}, {\"name\": \"Merge Sort\", \"type\": \"scatter\", \"x\": [\"10\", \"100\", \"10000\", \"100000\", \"1000000\"], \"y\": [0.00012499218815098065, 0.0019620738735292662, 0.06395929091613113, 0.615291579424304, 2.514461973059092]}, {\"name\": \"Python Sort\", \"type\": \"scatter\", \"x\": [\"10\", \"100\", \"10000\", \"100000\", \"1000000\"], \"y\": [4.999987500041667e-06, 3.999992000021333e-06, 0.0003679323046074271, 0.0064004732010275725, 0.06410373913357238]}, {\"name\": \"Tim Sort\", \"type\": \"scatter\", \"x\": [\"10\", \"100\", \"10000\", \"100000\", \"1000000\"], \"y\": [1.7999838001943975e-05, 0.0003009547085882487, 0.08016608467766545, 0.7386118213008005, 2.838346207170275]}],                        {\"template\": {\"data\": {\"bar\": [{\"error_x\": {\"color\": \"#2a3f5f\"}, \"error_y\": {\"color\": \"#2a3f5f\"}, \"marker\": {\"line\": {\"color\": \"#E5ECF6\", \"width\": 0.5}}, \"type\": \"bar\"}], \"barpolar\": [{\"marker\": {\"line\": {\"color\": \"#E5ECF6\", \"width\": 0.5}}, \"type\": \"barpolar\"}], \"carpet\": [{\"aaxis\": {\"endlinecolor\": \"#2a3f5f\", \"gridcolor\": \"white\", \"linecolor\": \"white\", \"minorgridcolor\": \"white\", \"startlinecolor\": \"#2a3f5f\"}, \"baxis\": {\"endlinecolor\": \"#2a3f5f\", \"gridcolor\": \"white\", \"linecolor\": \"white\", \"minorgridcolor\": \"white\", \"startlinecolor\": \"#2a3f5f\"}, \"type\": \"carpet\"}], \"choropleth\": [{\"colorbar\": {\"outlinewidth\": 0, \"ticks\": \"\"}, \"type\": \"choropleth\"}], \"contour\": [{\"colorbar\": {\"outlinewidth\": 0, \"ticks\": \"\"}, \"colorscale\": [[0.0, \"#0d0887\"], [0.1111111111111111, \"#46039f\"], [0.2222222222222222, \"#7201a8\"], [0.3333333333333333, \"#9c179e\"], [0.4444444444444444, \"#bd3786\"], [0.5555555555555556, \"#d8576b\"], [0.6666666666666666, \"#ed7953\"], [0.7777777777777778, \"#fb9f3a\"], [0.8888888888888888, \"#fdca26\"], [1.0, \"#f0f921\"]], \"type\": \"contour\"}], \"contourcarpet\": [{\"colorbar\": {\"outlinewidth\": 0, \"ticks\": \"\"}, \"type\": \"contourcarpet\"}], \"heatmap\": [{\"colorbar\": {\"outlinewidth\": 0, \"ticks\": \"\"}, \"colorscale\": [[0.0, \"#0d0887\"], [0.1111111111111111, \"#46039f\"], [0.2222222222222222, \"#7201a8\"], [0.3333333333333333, \"#9c179e\"], [0.4444444444444444, \"#bd3786\"], [0.5555555555555556, \"#d8576b\"], [0.6666666666666666, \"#ed7953\"], [0.7777777777777778, \"#fb9f3a\"], [0.8888888888888888, \"#fdca26\"], [1.0, \"#f0f921\"]], \"type\": \"heatmap\"}], \"heatmapgl\": [{\"colorbar\": {\"outlinewidth\": 0, \"ticks\": \"\"}, \"colorscale\": [[0.0, \"#0d0887\"], [0.1111111111111111, \"#46039f\"], [0.2222222222222222, \"#7201a8\"], [0.3333333333333333, \"#9c179e\"], [0.4444444444444444, \"#bd3786\"], [0.5555555555555556, \"#d8576b\"], [0.6666666666666666, \"#ed7953\"], [0.7777777777777778, \"#fb9f3a\"], [0.8888888888888888, \"#fdca26\"], [1.0, \"#f0f921\"]], \"type\": \"heatmapgl\"}], \"histogram\": [{\"marker\": {\"colorbar\": {\"outlinewidth\": 0, \"ticks\": \"\"}}, \"type\": \"histogram\"}], \"histogram2d\": [{\"colorbar\": {\"outlinewidth\": 0, \"ticks\": \"\"}, \"colorscale\": [[0.0, \"#0d0887\"], [0.1111111111111111, \"#46039f\"], [0.2222222222222222, \"#7201a8\"], [0.3333333333333333, \"#9c179e\"], [0.4444444444444444, \"#bd3786\"], [0.5555555555555556, \"#d8576b\"], [0.6666666666666666, \"#ed7953\"], [0.7777777777777778, \"#fb9f3a\"], [0.8888888888888888, \"#fdca26\"], [1.0, \"#f0f921\"]], \"type\": \"histogram2d\"}], \"histogram2dcontour\": [{\"colorbar\": {\"outlinewidth\": 0, \"ticks\": \"\"}, \"colorscale\": [[0.0, \"#0d0887\"], [0.1111111111111111, \"#46039f\"], [0.2222222222222222, \"#7201a8\"], [0.3333333333333333, \"#9c179e\"], [0.4444444444444444, \"#bd3786\"], [0.5555555555555556, \"#d8576b\"], [0.6666666666666666, \"#ed7953\"], [0.7777777777777778, \"#fb9f3a\"], [0.8888888888888888, \"#fdca26\"], [1.0, \"#f0f921\"]], \"type\": \"histogram2dcontour\"}], \"mesh3d\": [{\"colorbar\": {\"outlinewidth\": 0, \"ticks\": \"\"}, \"type\": \"mesh3d\"}], \"parcoords\": [{\"line\": {\"colorbar\": {\"outlinewidth\": 0, \"ticks\": \"\"}}, \"type\": \"parcoords\"}], \"pie\": [{\"automargin\": true, \"type\": \"pie\"}], \"scatter\": [{\"marker\": {\"colorbar\": {\"outlinewidth\": 0, \"ticks\": \"\"}}, \"type\": \"scatter\"}], \"scatter3d\": [{\"line\": {\"colorbar\": {\"outlinewidth\": 0, \"ticks\": \"\"}}, \"marker\": {\"colorbar\": {\"outlinewidth\": 0, \"ticks\": \"\"}}, \"type\": \"scatter3d\"}], \"scattercarpet\": [{\"marker\": {\"colorbar\": {\"outlinewidth\": 0, \"ticks\": \"\"}}, \"type\": \"scattercarpet\"}], \"scattergeo\": [{\"marker\": {\"colorbar\": {\"outlinewidth\": 0, \"ticks\": \"\"}}, \"type\": \"scattergeo\"}], \"scattergl\": [{\"marker\": {\"colorbar\": {\"outlinewidth\": 0, \"ticks\": \"\"}}, \"type\": \"scattergl\"}], \"scattermapbox\": [{\"marker\": {\"colorbar\": {\"outlinewidth\": 0, \"ticks\": \"\"}}, \"type\": \"scattermapbox\"}], \"scatterpolar\": [{\"marker\": {\"colorbar\": {\"outlinewidth\": 0, \"ticks\": \"\"}}, \"type\": \"scatterpolar\"}], \"scatterpolargl\": [{\"marker\": {\"colorbar\": {\"outlinewidth\": 0, \"ticks\": \"\"}}, \"type\": \"scatterpolargl\"}], \"scatterternary\": [{\"marker\": {\"colorbar\": {\"outlinewidth\": 0, \"ticks\": \"\"}}, \"type\": \"scatterternary\"}], \"surface\": [{\"colorbar\": {\"outlinewidth\": 0, \"ticks\": \"\"}, \"colorscale\": [[0.0, \"#0d0887\"], [0.1111111111111111, \"#46039f\"], [0.2222222222222222, \"#7201a8\"], [0.3333333333333333, \"#9c179e\"], [0.4444444444444444, \"#bd3786\"], [0.5555555555555556, \"#d8576b\"], [0.6666666666666666, \"#ed7953\"], [0.7777777777777778, \"#fb9f3a\"], [0.8888888888888888, \"#fdca26\"], [1.0, \"#f0f921\"]], \"type\": \"surface\"}], \"table\": [{\"cells\": {\"fill\": {\"color\": \"#EBF0F8\"}, \"line\": {\"color\": \"white\"}}, \"header\": {\"fill\": {\"color\": \"#C8D4E3\"}, \"line\": {\"color\": \"white\"}}, \"type\": \"table\"}]}, \"layout\": {\"annotationdefaults\": {\"arrowcolor\": \"#2a3f5f\", \"arrowhead\": 0, \"arrowwidth\": 1}, \"autotypenumbers\": \"strict\", \"coloraxis\": {\"colorbar\": {\"outlinewidth\": 0, \"ticks\": \"\"}}, \"colorscale\": {\"diverging\": [[0, \"#8e0152\"], [0.1, \"#c51b7d\"], [0.2, \"#de77ae\"], [0.3, \"#f1b6da\"], [0.4, \"#fde0ef\"], [0.5, \"#f7f7f7\"], [0.6, \"#e6f5d0\"], [0.7, \"#b8e186\"], [0.8, \"#7fbc41\"], [0.9, \"#4d9221\"], [1, \"#276419\"]], \"sequential\": [[0.0, \"#0d0887\"], [0.1111111111111111, \"#46039f\"], [0.2222222222222222, \"#7201a8\"], [0.3333333333333333, \"#9c179e\"], [0.4444444444444444, \"#bd3786\"], [0.5555555555555556, \"#d8576b\"], [0.6666666666666666, \"#ed7953\"], [0.7777777777777778, \"#fb9f3a\"], [0.8888888888888888, \"#fdca26\"], [1.0, \"#f0f921\"]], \"sequentialminus\": [[0.0, \"#0d0887\"], [0.1111111111111111, \"#46039f\"], [0.2222222222222222, \"#7201a8\"], [0.3333333333333333, \"#9c179e\"], [0.4444444444444444, \"#bd3786\"], [0.5555555555555556, \"#d8576b\"], [0.6666666666666666, \"#ed7953\"], [0.7777777777777778, \"#fb9f3a\"], [0.8888888888888888, \"#fdca26\"], [1.0, \"#f0f921\"]]}, \"colorway\": [\"#636efa\", \"#EF553B\", \"#00cc96\", \"#ab63fa\", \"#FFA15A\", \"#19d3f3\", \"#FF6692\", \"#B6E880\", \"#FF97FF\", \"#FECB52\"], \"font\": {\"color\": \"#2a3f5f\"}, \"geo\": {\"bgcolor\": \"white\", \"lakecolor\": \"white\", \"landcolor\": \"#E5ECF6\", \"showlakes\": true, \"showland\": true, \"subunitcolor\": \"white\"}, \"hoverlabel\": {\"align\": \"left\"}, \"hovermode\": \"closest\", \"mapbox\": {\"style\": \"light\"}, \"paper_bgcolor\": \"white\", \"plot_bgcolor\": \"#E5ECF6\", \"polar\": {\"angularaxis\": {\"gridcolor\": \"white\", \"linecolor\": \"white\", \"ticks\": \"\"}, \"bgcolor\": \"#E5ECF6\", \"radialaxis\": {\"gridcolor\": \"white\", \"linecolor\": \"white\", \"ticks\": \"\"}}, \"scene\": {\"xaxis\": {\"backgroundcolor\": \"#E5ECF6\", \"gridcolor\": \"white\", \"gridwidth\": 2, \"linecolor\": \"white\", \"showbackground\": true, \"ticks\": \"\", \"zerolinecolor\": \"white\"}, \"yaxis\": {\"backgroundcolor\": \"#E5ECF6\", \"gridcolor\": \"white\", \"gridwidth\": 2, \"linecolor\": \"white\", \"showbackground\": true, \"ticks\": \"\", \"zerolinecolor\": \"white\"}, \"zaxis\": {\"backgroundcolor\": \"#E5ECF6\", \"gridcolor\": \"white\", \"gridwidth\": 2, \"linecolor\": \"white\", \"showbackground\": true, \"ticks\": \"\", \"zerolinecolor\": \"white\"}}, \"shapedefaults\": {\"line\": {\"color\": \"#2a3f5f\"}}, \"ternary\": {\"aaxis\": {\"gridcolor\": \"white\", \"linecolor\": \"white\", \"ticks\": \"\"}, \"baxis\": {\"gridcolor\": \"white\", \"linecolor\": \"white\", \"ticks\": \"\"}, \"bgcolor\": \"#E5ECF6\", \"caxis\": {\"gridcolor\": \"white\", \"linecolor\": \"white\", \"ticks\": \"\"}}, \"title\": {\"x\": 0.05}, \"xaxis\": {\"automargin\": true, \"gridcolor\": \"white\", \"linecolor\": \"white\", \"ticks\": \"\", \"title\": {\"standoff\": 15}, \"zerolinecolor\": \"white\", \"zerolinewidth\": 2}, \"yaxis\": {\"automargin\": true, \"gridcolor\": \"white\", \"linecolor\": \"white\", \"ticks\": \"\", \"title\": {\"standoff\": 15}, \"zerolinecolor\": \"white\", \"zerolinewidth\": 2}}}, \"title\": {\"text\": \"Gr\\u00e1fico de G1\"}, \"xaxis\": {\"title\": {\"text\": \"Tamanho da Lista\"}}, \"yaxis\": {\"title\": {\"text\": \"Tempo (s)\"}}},                        {\"responsive\": true}                    ).then(function(){\n",
              "                            \n",
              "var gd = document.getElementById('bacb3bf2-536f-4037-be8b-fc7586acebea');\n",
              "var x = new MutationObserver(function (mutations, observer) {{\n",
              "        var display = window.getComputedStyle(gd).display;\n",
              "        if (!display || display === 'none') {{\n",
              "            console.log([gd, 'removed!']);\n",
              "            Plotly.purge(gd);\n",
              "            observer.disconnect();\n",
              "        }}\n",
              "}});\n",
              "\n",
              "// Listen for the removal of the full notebook cells\n",
              "var notebookContainer = gd.closest('#notebook-container');\n",
              "if (notebookContainer) {{\n",
              "    x.observe(notebookContainer, {childList: true});\n",
              "}}\n",
              "\n",
              "// Listen for the clearing of the current output cell\n",
              "var outputEl = gd.closest('.output');\n",
              "if (outputEl) {{\n",
              "    x.observe(outputEl, {childList: true});\n",
              "}}\n",
              "\n",
              "                        })                };                            </script>        </div>\n",
              "</body>\n",
              "</html>"
            ]
          },
          "metadata": {
            "tags": []
          }
        }
      ]
    },
    {
      "cell_type": "code",
      "metadata": {
        "colab": {
          "base_uri": "https://localhost:8080/"
        },
        "id": "w1GqVUVZfwd-",
        "outputId": "62507156-8155-4950-cb1c-354fdd07e6a5"
      },
      "source": [
        "# Gráfico de G2\n",
        "\n",
        "passo += 5\n",
        "\n",
        "fig = go.Figure()\n",
        "\n",
        "fig.add_trace(\n",
        "    go.Scatter(\n",
        "        name = \"Insertion Sort\",\n",
        "        x = tam_listas,\n",
        "        y = g_insertion[(passo - 5):passo] \n",
        "    )\n",
        ")\n",
        "\n",
        "fig.add_trace(\n",
        "    go.Scatter(\n",
        "        name = \"Merge Sort\",\n",
        "        x = tam_listas,\n",
        "        y = g_merge_sort[passo - 5:passo] \n",
        "    )\n",
        ")\n",
        "\n",
        "\n",
        "fig.add_trace(\n",
        "    go.Scatter(\n",
        "        name = \"Python Sort\",\n",
        "        x = tam_listas,\n",
        "        y = g_python_sort[passo - 5:passo] \n",
        "    )\n",
        ")\n",
        "\n",
        "fig.add_trace(\n",
        "    go.Scatter(\n",
        "        name = \"Tim Sort\",\n",
        "        x = tam_listas,\n",
        "        y = g_tim_sort[passo - 5:passo] \n",
        "    )\n",
        ")\n",
        "\n",
        "fig.update_layout(title_text='Gráfico de G2')\n",
        "fig.update_layout(\n",
        "    xaxis_title = \"Tamanho da Lista\",\n",
        "    yaxis_title = \"Tempo (s)\"\n",
        ")\n",
        "\n",
        "fig.show()"
      ],
      "execution_count": null,
      "outputs": [
        {
          "output_type": "display_data",
          "data": {
            "text/html": [
              "<html>\n",
              "<head><meta charset=\"utf-8\" /></head>\n",
              "<body>\n",
              "    <div>            <script src=\"https://cdnjs.cloudflare.com/ajax/libs/mathjax/2.7.5/MathJax.js?config=TeX-AMS-MML_SVG\"></script><script type=\"text/javascript\">if (window.MathJax) {MathJax.Hub.Config({SVG: {font: \"STIX-Web\"}});}</script>                <script type=\"text/javascript\">window.PlotlyConfig = {MathJaxConfig: 'local'};</script>\n",
              "        <script src=\"https://cdn.plot.ly/plotly-latest.min.js\"></script>                <div id=\"92ad1ee1-4e0a-4179-9d70-4ed56bc21bff\" class=\"plotly-graph-div\" style=\"height:525px; width:100%;\"></div>            <script type=\"text/javascript\">                                    window.PLOTLYENV=window.PLOTLYENV || {};                                    if (document.getElementById(\"92ad1ee1-4e0a-4179-9d70-4ed56bc21bff\")) {                    Plotly.newPlot(                        \"92ad1ee1-4e0a-4179-9d70-4ed56bc21bff\",                        [{\"name\": \"Insertion Sort\", \"type\": \"scatter\", \"x\": [\"10\", \"100\", \"10000\", \"100000\", \"1000000\"], \"y\": [7.999968000170666e-06, 2.4999687505208236e-05, 0.0026046050693716576, 0.02460090106792522, 0.2312339357170816]}, {\"name\": \"Merge Sort\", \"type\": \"scatter\", \"x\": [\"10\", \"100\", \"10000\", \"100000\", \"1000000\"], \"y\": [6.799768810480532e-05, 0.0003199488109200459, 0.07593458858798526, 0.4915950967892108, 2.1163375596295544]}, {\"name\": \"Python Sort\", \"type\": \"scatter\", \"x\": [\"10\", \"100\", \"10000\", \"100000\", \"1000000\"], \"y\": [1.9999980000026667e-06, 1.9999980000026667e-06, 8.399647219755555e-05, 0.0010944009247850243, 0.012494616164998187]}, {\"name\": \"Tim Sort\", \"type\": \"scatter\", \"x\": [\"10\", \"100\", \"10000\", \"100000\", \"1000000\"], \"y\": [1.0999939500443663e-05, 7.299733562966523e-05, 0.02800322402483833, 0.34127568158553256, 2.168320288631729]}],                        {\"template\": {\"data\": {\"bar\": [{\"error_x\": {\"color\": \"#2a3f5f\"}, \"error_y\": {\"color\": \"#2a3f5f\"}, \"marker\": {\"line\": {\"color\": \"#E5ECF6\", \"width\": 0.5}}, \"type\": \"bar\"}], \"barpolar\": [{\"marker\": {\"line\": {\"color\": \"#E5ECF6\", \"width\": 0.5}}, \"type\": \"barpolar\"}], \"carpet\": [{\"aaxis\": {\"endlinecolor\": \"#2a3f5f\", \"gridcolor\": \"white\", \"linecolor\": \"white\", \"minorgridcolor\": \"white\", \"startlinecolor\": \"#2a3f5f\"}, \"baxis\": {\"endlinecolor\": \"#2a3f5f\", \"gridcolor\": \"white\", \"linecolor\": \"white\", \"minorgridcolor\": \"white\", \"startlinecolor\": \"#2a3f5f\"}, \"type\": \"carpet\"}], \"choropleth\": [{\"colorbar\": {\"outlinewidth\": 0, \"ticks\": \"\"}, \"type\": \"choropleth\"}], \"contour\": [{\"colorbar\": {\"outlinewidth\": 0, \"ticks\": \"\"}, \"colorscale\": [[0.0, \"#0d0887\"], [0.1111111111111111, \"#46039f\"], [0.2222222222222222, \"#7201a8\"], [0.3333333333333333, \"#9c179e\"], [0.4444444444444444, \"#bd3786\"], [0.5555555555555556, \"#d8576b\"], [0.6666666666666666, \"#ed7953\"], [0.7777777777777778, \"#fb9f3a\"], [0.8888888888888888, \"#fdca26\"], [1.0, \"#f0f921\"]], \"type\": \"contour\"}], \"contourcarpet\": [{\"colorbar\": {\"outlinewidth\": 0, \"ticks\": \"\"}, \"type\": \"contourcarpet\"}], \"heatmap\": [{\"colorbar\": {\"outlinewidth\": 0, \"ticks\": \"\"}, \"colorscale\": [[0.0, \"#0d0887\"], [0.1111111111111111, \"#46039f\"], [0.2222222222222222, \"#7201a8\"], [0.3333333333333333, \"#9c179e\"], [0.4444444444444444, \"#bd3786\"], [0.5555555555555556, \"#d8576b\"], [0.6666666666666666, \"#ed7953\"], [0.7777777777777778, \"#fb9f3a\"], [0.8888888888888888, \"#fdca26\"], [1.0, \"#f0f921\"]], \"type\": \"heatmap\"}], \"heatmapgl\": [{\"colorbar\": {\"outlinewidth\": 0, \"ticks\": \"\"}, \"colorscale\": [[0.0, \"#0d0887\"], [0.1111111111111111, \"#46039f\"], [0.2222222222222222, \"#7201a8\"], [0.3333333333333333, \"#9c179e\"], [0.4444444444444444, \"#bd3786\"], [0.5555555555555556, \"#d8576b\"], [0.6666666666666666, \"#ed7953\"], [0.7777777777777778, \"#fb9f3a\"], [0.8888888888888888, \"#fdca26\"], [1.0, \"#f0f921\"]], \"type\": \"heatmapgl\"}], \"histogram\": [{\"marker\": {\"colorbar\": {\"outlinewidth\": 0, \"ticks\": \"\"}}, \"type\": \"histogram\"}], \"histogram2d\": [{\"colorbar\": {\"outlinewidth\": 0, \"ticks\": \"\"}, \"colorscale\": [[0.0, \"#0d0887\"], [0.1111111111111111, \"#46039f\"], [0.2222222222222222, \"#7201a8\"], [0.3333333333333333, \"#9c179e\"], [0.4444444444444444, \"#bd3786\"], [0.5555555555555556, \"#d8576b\"], [0.6666666666666666, \"#ed7953\"], [0.7777777777777778, \"#fb9f3a\"], [0.8888888888888888, \"#fdca26\"], [1.0, \"#f0f921\"]], \"type\": \"histogram2d\"}], \"histogram2dcontour\": [{\"colorbar\": {\"outlinewidth\": 0, \"ticks\": \"\"}, \"colorscale\": [[0.0, \"#0d0887\"], [0.1111111111111111, \"#46039f\"], [0.2222222222222222, \"#7201a8\"], [0.3333333333333333, \"#9c179e\"], [0.4444444444444444, \"#bd3786\"], [0.5555555555555556, \"#d8576b\"], [0.6666666666666666, \"#ed7953\"], [0.7777777777777778, \"#fb9f3a\"], [0.8888888888888888, \"#fdca26\"], [1.0, \"#f0f921\"]], \"type\": \"histogram2dcontour\"}], \"mesh3d\": [{\"colorbar\": {\"outlinewidth\": 0, \"ticks\": \"\"}, \"type\": \"mesh3d\"}], \"parcoords\": [{\"line\": {\"colorbar\": {\"outlinewidth\": 0, \"ticks\": \"\"}}, \"type\": \"parcoords\"}], \"pie\": [{\"automargin\": true, \"type\": \"pie\"}], \"scatter\": [{\"marker\": {\"colorbar\": {\"outlinewidth\": 0, \"ticks\": \"\"}}, \"type\": \"scatter\"}], \"scatter3d\": [{\"line\": {\"colorbar\": {\"outlinewidth\": 0, \"ticks\": \"\"}}, \"marker\": {\"colorbar\": {\"outlinewidth\": 0, \"ticks\": \"\"}}, \"type\": \"scatter3d\"}], \"scattercarpet\": [{\"marker\": {\"colorbar\": {\"outlinewidth\": 0, \"ticks\": \"\"}}, \"type\": \"scattercarpet\"}], \"scattergeo\": [{\"marker\": {\"colorbar\": {\"outlinewidth\": 0, \"ticks\": \"\"}}, \"type\": \"scattergeo\"}], \"scattergl\": [{\"marker\": {\"colorbar\": {\"outlinewidth\": 0, \"ticks\": \"\"}}, \"type\": \"scattergl\"}], \"scattermapbox\": [{\"marker\": {\"colorbar\": {\"outlinewidth\": 0, \"ticks\": \"\"}}, \"type\": \"scattermapbox\"}], \"scatterpolar\": [{\"marker\": {\"colorbar\": {\"outlinewidth\": 0, \"ticks\": \"\"}}, \"type\": \"scatterpolar\"}], \"scatterpolargl\": [{\"marker\": {\"colorbar\": {\"outlinewidth\": 0, \"ticks\": \"\"}}, \"type\": \"scatterpolargl\"}], \"scatterternary\": [{\"marker\": {\"colorbar\": {\"outlinewidth\": 0, \"ticks\": \"\"}}, \"type\": \"scatterternary\"}], \"surface\": [{\"colorbar\": {\"outlinewidth\": 0, \"ticks\": \"\"}, \"colorscale\": [[0.0, \"#0d0887\"], [0.1111111111111111, \"#46039f\"], [0.2222222222222222, \"#7201a8\"], [0.3333333333333333, \"#9c179e\"], [0.4444444444444444, \"#bd3786\"], [0.5555555555555556, \"#d8576b\"], [0.6666666666666666, \"#ed7953\"], [0.7777777777777778, \"#fb9f3a\"], [0.8888888888888888, \"#fdca26\"], [1.0, \"#f0f921\"]], \"type\": \"surface\"}], \"table\": [{\"cells\": {\"fill\": {\"color\": \"#EBF0F8\"}, \"line\": {\"color\": \"white\"}}, \"header\": {\"fill\": {\"color\": \"#C8D4E3\"}, \"line\": {\"color\": \"white\"}}, \"type\": \"table\"}]}, \"layout\": {\"annotationdefaults\": {\"arrowcolor\": \"#2a3f5f\", \"arrowhead\": 0, \"arrowwidth\": 1}, \"autotypenumbers\": \"strict\", \"coloraxis\": {\"colorbar\": {\"outlinewidth\": 0, \"ticks\": \"\"}}, \"colorscale\": {\"diverging\": [[0, \"#8e0152\"], [0.1, \"#c51b7d\"], [0.2, \"#de77ae\"], [0.3, \"#f1b6da\"], [0.4, \"#fde0ef\"], [0.5, \"#f7f7f7\"], [0.6, \"#e6f5d0\"], [0.7, \"#b8e186\"], [0.8, \"#7fbc41\"], [0.9, \"#4d9221\"], [1, \"#276419\"]], \"sequential\": [[0.0, \"#0d0887\"], [0.1111111111111111, \"#46039f\"], [0.2222222222222222, \"#7201a8\"], [0.3333333333333333, \"#9c179e\"], [0.4444444444444444, \"#bd3786\"], [0.5555555555555556, \"#d8576b\"], [0.6666666666666666, \"#ed7953\"], [0.7777777777777778, \"#fb9f3a\"], [0.8888888888888888, \"#fdca26\"], [1.0, \"#f0f921\"]], \"sequentialminus\": [[0.0, \"#0d0887\"], [0.1111111111111111, \"#46039f\"], [0.2222222222222222, \"#7201a8\"], [0.3333333333333333, \"#9c179e\"], [0.4444444444444444, \"#bd3786\"], [0.5555555555555556, \"#d8576b\"], [0.6666666666666666, \"#ed7953\"], [0.7777777777777778, \"#fb9f3a\"], [0.8888888888888888, \"#fdca26\"], [1.0, \"#f0f921\"]]}, \"colorway\": [\"#636efa\", \"#EF553B\", \"#00cc96\", \"#ab63fa\", \"#FFA15A\", \"#19d3f3\", \"#FF6692\", \"#B6E880\", \"#FF97FF\", \"#FECB52\"], \"font\": {\"color\": \"#2a3f5f\"}, \"geo\": {\"bgcolor\": \"white\", \"lakecolor\": \"white\", \"landcolor\": \"#E5ECF6\", \"showlakes\": true, \"showland\": true, \"subunitcolor\": \"white\"}, \"hoverlabel\": {\"align\": \"left\"}, \"hovermode\": \"closest\", \"mapbox\": {\"style\": \"light\"}, \"paper_bgcolor\": \"white\", \"plot_bgcolor\": \"#E5ECF6\", \"polar\": {\"angularaxis\": {\"gridcolor\": \"white\", \"linecolor\": \"white\", \"ticks\": \"\"}, \"bgcolor\": \"#E5ECF6\", \"radialaxis\": {\"gridcolor\": \"white\", \"linecolor\": \"white\", \"ticks\": \"\"}}, \"scene\": {\"xaxis\": {\"backgroundcolor\": \"#E5ECF6\", \"gridcolor\": \"white\", \"gridwidth\": 2, \"linecolor\": \"white\", \"showbackground\": true, \"ticks\": \"\", \"zerolinecolor\": \"white\"}, \"yaxis\": {\"backgroundcolor\": \"#E5ECF6\", \"gridcolor\": \"white\", \"gridwidth\": 2, \"linecolor\": \"white\", \"showbackground\": true, \"ticks\": \"\", \"zerolinecolor\": \"white\"}, \"zaxis\": {\"backgroundcolor\": \"#E5ECF6\", \"gridcolor\": \"white\", \"gridwidth\": 2, \"linecolor\": \"white\", \"showbackground\": true, \"ticks\": \"\", \"zerolinecolor\": \"white\"}}, \"shapedefaults\": {\"line\": {\"color\": \"#2a3f5f\"}}, \"ternary\": {\"aaxis\": {\"gridcolor\": \"white\", \"linecolor\": \"white\", \"ticks\": \"\"}, \"baxis\": {\"gridcolor\": \"white\", \"linecolor\": \"white\", \"ticks\": \"\"}, \"bgcolor\": \"#E5ECF6\", \"caxis\": {\"gridcolor\": \"white\", \"linecolor\": \"white\", \"ticks\": \"\"}}, \"title\": {\"x\": 0.05}, \"xaxis\": {\"automargin\": true, \"gridcolor\": \"white\", \"linecolor\": \"white\", \"ticks\": \"\", \"title\": {\"standoff\": 15}, \"zerolinecolor\": \"white\", \"zerolinewidth\": 2}, \"yaxis\": {\"automargin\": true, \"gridcolor\": \"white\", \"linecolor\": \"white\", \"ticks\": \"\", \"title\": {\"standoff\": 15}, \"zerolinecolor\": \"white\", \"zerolinewidth\": 2}}}, \"title\": {\"text\": \"Gr\\u00e1fico de G2\"}, \"xaxis\": {\"title\": {\"text\": \"Tamanho da Lista\"}}, \"yaxis\": {\"title\": {\"text\": \"Tempo (s)\"}}},                        {\"responsive\": true}                    ).then(function(){\n",
              "                            \n",
              "var gd = document.getElementById('92ad1ee1-4e0a-4179-9d70-4ed56bc21bff');\n",
              "var x = new MutationObserver(function (mutations, observer) {{\n",
              "        var display = window.getComputedStyle(gd).display;\n",
              "        if (!display || display === 'none') {{\n",
              "            console.log([gd, 'removed!']);\n",
              "            Plotly.purge(gd);\n",
              "            observer.disconnect();\n",
              "        }}\n",
              "}});\n",
              "\n",
              "// Listen for the removal of the full notebook cells\n",
              "var notebookContainer = gd.closest('#notebook-container');\n",
              "if (notebookContainer) {{\n",
              "    x.observe(notebookContainer, {childList: true});\n",
              "}}\n",
              "\n",
              "// Listen for the clearing of the current output cell\n",
              "var outputEl = gd.closest('.output');\n",
              "if (outputEl) {{\n",
              "    x.observe(outputEl, {childList: true});\n",
              "}}\n",
              "\n",
              "                        })                };                            </script>        </div>\n",
              "</body>\n",
              "</html>"
            ]
          },
          "metadata": {
            "tags": []
          }
        }
      ]
    },
    {
      "cell_type": "code",
      "metadata": {
        "colab": {
          "base_uri": "https://localhost:8080/"
        },
        "id": "MQHK1HU-gHG-",
        "outputId": "3fe8f28c-7aca-4980-aa6d-1075d90f6a20"
      },
      "source": [
        "# Gráfico de G3\n",
        "\n",
        "passo += 5\n",
        "\n",
        "fig = go.Figure()\n",
        "\n",
        "fig.add_trace(\n",
        "    go.Scatter(\n",
        "        name = \"Insertion Sort\",\n",
        "        x = tam_listas,\n",
        "        y = g_insertion[(passo - 5):passo] \n",
        "    )\n",
        ")\n",
        "\n",
        "fig.add_trace(\n",
        "    go.Scatter(\n",
        "        name = \"Merge Sort\",\n",
        "        x = tam_listas,\n",
        "        y = g_merge_sort[passo - 5:passo] \n",
        "    )\n",
        ")\n",
        "\n",
        "\n",
        "fig.add_trace(\n",
        "    go.Scatter(\n",
        "        name = \"Python Sort\",\n",
        "        x = tam_listas,\n",
        "        y = g_python_sort[passo - 5:passo] \n",
        "    )\n",
        ")\n",
        "\n",
        "fig.add_trace(\n",
        "    go.Scatter(\n",
        "        name = \"Tim Sort\",\n",
        "        x = tam_listas,\n",
        "        y = g_tim_sort[passo - 5:passo] \n",
        "    )\n",
        ")\n",
        "\n",
        "fig.update_layout(title_text='Gráfico de G3')\n",
        "fig.update_layout(\n",
        "    xaxis_title = \"Tamanho da Lista\",\n",
        "    yaxis_title = \"Tempo (s)\"\n",
        ")\n",
        "\n",
        "fig.show()"
      ],
      "execution_count": null,
      "outputs": [
        {
          "output_type": "display_data",
          "data": {
            "text/html": [
              "<html>\n",
              "<head><meta charset=\"utf-8\" /></head>\n",
              "<body>\n",
              "    <div>            <script src=\"https://cdnjs.cloudflare.com/ajax/libs/mathjax/2.7.5/MathJax.js?config=TeX-AMS-MML_SVG\"></script><script type=\"text/javascript\">if (window.MathJax) {MathJax.Hub.Config({SVG: {font: \"STIX-Web\"}});}</script>                <script type=\"text/javascript\">window.PlotlyConfig = {MathJaxConfig: 'local'};</script>\n",
              "        <script src=\"https://cdn.plot.ly/plotly-latest.min.js\"></script>                <div id=\"413f96f9-d9c9-4c71-8663-14627ebb31c5\" class=\"plotly-graph-div\" style=\"height:525px; width:100%;\"></div>            <script type=\"text/javascript\">                                    window.PLOTLYENV=window.PLOTLYENV || {};                                    if (document.getElementById(\"413f96f9-d9c9-4c71-8663-14627ebb31c5\")) {                    Plotly.newPlot(                        \"413f96f9-d9c9-4c71-8663-14627ebb31c5\",                        [{\"name\": \"Insertion Sort\", \"type\": \"scatter\", \"x\": [\"10\", \"100\", \"10000\", \"100000\", \"1000000\"], \"y\": [1.7999838001943975e-05, 0.000975524021678052, 2.504912851132819, 7.0486343058816345, 10.673618922112436]}, {\"name\": \"Merge Sort\", \"type\": \"scatter\", \"x\": [\"10\", \"100\", \"10000\", \"100000\", \"1000000\"], \"y\": [6.899761960949733e-05, 0.0003379428908682286, 0.060458961036622016, 0.521344110019991, 2.2066844689118]}, {\"name\": \"Python Sort\", \"type\": \"scatter\", \"x\": [\"10\", \"100\", \"10000\", \"100000\", \"1000000\"], \"y\": [1.9999980000026667e-06, 1.9999980000026667e-06, 9.399558227684181e-05, 0.0012342380148032879, 0.013510323187802147]}, {\"name\": \"Tim Sort\", \"type\": \"scatter\", \"x\": [\"10\", \"100\", \"10000\", \"100000\", \"1000000\"], \"y\": [1.8999819502286302e-05, 0.00049287851542629, 0.06656178545721379, 0.6010965825420951, 2.516974679923247]}],                        {\"template\": {\"data\": {\"bar\": [{\"error_x\": {\"color\": \"#2a3f5f\"}, \"error_y\": {\"color\": \"#2a3f5f\"}, \"marker\": {\"line\": {\"color\": \"#E5ECF6\", \"width\": 0.5}}, \"type\": \"bar\"}], \"barpolar\": [{\"marker\": {\"line\": {\"color\": \"#E5ECF6\", \"width\": 0.5}}, \"type\": \"barpolar\"}], \"carpet\": [{\"aaxis\": {\"endlinecolor\": \"#2a3f5f\", \"gridcolor\": \"white\", \"linecolor\": \"white\", \"minorgridcolor\": \"white\", \"startlinecolor\": \"#2a3f5f\"}, \"baxis\": {\"endlinecolor\": \"#2a3f5f\", \"gridcolor\": \"white\", \"linecolor\": \"white\", \"minorgridcolor\": \"white\", \"startlinecolor\": \"#2a3f5f\"}, \"type\": \"carpet\"}], \"choropleth\": [{\"colorbar\": {\"outlinewidth\": 0, \"ticks\": \"\"}, \"type\": \"choropleth\"}], \"contour\": [{\"colorbar\": {\"outlinewidth\": 0, \"ticks\": \"\"}, \"colorscale\": [[0.0, \"#0d0887\"], [0.1111111111111111, \"#46039f\"], [0.2222222222222222, \"#7201a8\"], [0.3333333333333333, \"#9c179e\"], [0.4444444444444444, \"#bd3786\"], [0.5555555555555556, \"#d8576b\"], [0.6666666666666666, \"#ed7953\"], [0.7777777777777778, \"#fb9f3a\"], [0.8888888888888888, \"#fdca26\"], [1.0, \"#f0f921\"]], \"type\": \"contour\"}], \"contourcarpet\": [{\"colorbar\": {\"outlinewidth\": 0, \"ticks\": \"\"}, \"type\": \"contourcarpet\"}], \"heatmap\": [{\"colorbar\": {\"outlinewidth\": 0, \"ticks\": \"\"}, \"colorscale\": [[0.0, \"#0d0887\"], [0.1111111111111111, \"#46039f\"], [0.2222222222222222, \"#7201a8\"], [0.3333333333333333, \"#9c179e\"], [0.4444444444444444, \"#bd3786\"], [0.5555555555555556, \"#d8576b\"], [0.6666666666666666, \"#ed7953\"], [0.7777777777777778, \"#fb9f3a\"], [0.8888888888888888, \"#fdca26\"], [1.0, \"#f0f921\"]], \"type\": \"heatmap\"}], \"heatmapgl\": [{\"colorbar\": {\"outlinewidth\": 0, \"ticks\": \"\"}, \"colorscale\": [[0.0, \"#0d0887\"], [0.1111111111111111, \"#46039f\"], [0.2222222222222222, \"#7201a8\"], [0.3333333333333333, \"#9c179e\"], [0.4444444444444444, \"#bd3786\"], [0.5555555555555556, \"#d8576b\"], [0.6666666666666666, \"#ed7953\"], [0.7777777777777778, \"#fb9f3a\"], [0.8888888888888888, \"#fdca26\"], [1.0, \"#f0f921\"]], \"type\": \"heatmapgl\"}], \"histogram\": [{\"marker\": {\"colorbar\": {\"outlinewidth\": 0, \"ticks\": \"\"}}, \"type\": \"histogram\"}], \"histogram2d\": [{\"colorbar\": {\"outlinewidth\": 0, \"ticks\": \"\"}, \"colorscale\": [[0.0, \"#0d0887\"], [0.1111111111111111, \"#46039f\"], [0.2222222222222222, \"#7201a8\"], [0.3333333333333333, \"#9c179e\"], [0.4444444444444444, \"#bd3786\"], [0.5555555555555556, \"#d8576b\"], [0.6666666666666666, \"#ed7953\"], [0.7777777777777778, \"#fb9f3a\"], [0.8888888888888888, \"#fdca26\"], [1.0, \"#f0f921\"]], \"type\": \"histogram2d\"}], \"histogram2dcontour\": [{\"colorbar\": {\"outlinewidth\": 0, \"ticks\": \"\"}, \"colorscale\": [[0.0, \"#0d0887\"], [0.1111111111111111, \"#46039f\"], [0.2222222222222222, \"#7201a8\"], [0.3333333333333333, \"#9c179e\"], [0.4444444444444444, \"#bd3786\"], [0.5555555555555556, \"#d8576b\"], [0.6666666666666666, \"#ed7953\"], [0.7777777777777778, \"#fb9f3a\"], [0.8888888888888888, \"#fdca26\"], [1.0, \"#f0f921\"]], \"type\": \"histogram2dcontour\"}], \"mesh3d\": [{\"colorbar\": {\"outlinewidth\": 0, \"ticks\": \"\"}, \"type\": \"mesh3d\"}], \"parcoords\": [{\"line\": {\"colorbar\": {\"outlinewidth\": 0, \"ticks\": \"\"}}, \"type\": \"parcoords\"}], \"pie\": [{\"automargin\": true, \"type\": \"pie\"}], \"scatter\": [{\"marker\": {\"colorbar\": {\"outlinewidth\": 0, \"ticks\": \"\"}}, \"type\": \"scatter\"}], \"scatter3d\": [{\"line\": {\"colorbar\": {\"outlinewidth\": 0, \"ticks\": \"\"}}, \"marker\": {\"colorbar\": {\"outlinewidth\": 0, \"ticks\": \"\"}}, \"type\": \"scatter3d\"}], \"scattercarpet\": [{\"marker\": {\"colorbar\": {\"outlinewidth\": 0, \"ticks\": \"\"}}, \"type\": \"scattercarpet\"}], \"scattergeo\": [{\"marker\": {\"colorbar\": {\"outlinewidth\": 0, \"ticks\": \"\"}}, \"type\": \"scattergeo\"}], \"scattergl\": [{\"marker\": {\"colorbar\": {\"outlinewidth\": 0, \"ticks\": \"\"}}, \"type\": \"scattergl\"}], \"scattermapbox\": [{\"marker\": {\"colorbar\": {\"outlinewidth\": 0, \"ticks\": \"\"}}, \"type\": \"scattermapbox\"}], \"scatterpolar\": [{\"marker\": {\"colorbar\": {\"outlinewidth\": 0, \"ticks\": \"\"}}, \"type\": \"scatterpolar\"}], \"scatterpolargl\": [{\"marker\": {\"colorbar\": {\"outlinewidth\": 0, \"ticks\": \"\"}}, \"type\": \"scatterpolargl\"}], \"scatterternary\": [{\"marker\": {\"colorbar\": {\"outlinewidth\": 0, \"ticks\": \"\"}}, \"type\": \"scatterternary\"}], \"surface\": [{\"colorbar\": {\"outlinewidth\": 0, \"ticks\": \"\"}, \"colorscale\": [[0.0, \"#0d0887\"], [0.1111111111111111, \"#46039f\"], [0.2222222222222222, \"#7201a8\"], [0.3333333333333333, \"#9c179e\"], [0.4444444444444444, \"#bd3786\"], [0.5555555555555556, \"#d8576b\"], [0.6666666666666666, \"#ed7953\"], [0.7777777777777778, \"#fb9f3a\"], [0.8888888888888888, \"#fdca26\"], [1.0, \"#f0f921\"]], \"type\": \"surface\"}], \"table\": [{\"cells\": {\"fill\": {\"color\": \"#EBF0F8\"}, \"line\": {\"color\": \"white\"}}, \"header\": {\"fill\": {\"color\": \"#C8D4E3\"}, \"line\": {\"color\": \"white\"}}, \"type\": \"table\"}]}, \"layout\": {\"annotationdefaults\": {\"arrowcolor\": \"#2a3f5f\", \"arrowhead\": 0, \"arrowwidth\": 1}, \"autotypenumbers\": \"strict\", \"coloraxis\": {\"colorbar\": {\"outlinewidth\": 0, \"ticks\": \"\"}}, \"colorscale\": {\"diverging\": [[0, \"#8e0152\"], [0.1, \"#c51b7d\"], [0.2, \"#de77ae\"], [0.3, \"#f1b6da\"], [0.4, \"#fde0ef\"], [0.5, \"#f7f7f7\"], [0.6, \"#e6f5d0\"], [0.7, \"#b8e186\"], [0.8, \"#7fbc41\"], [0.9, \"#4d9221\"], [1, \"#276419\"]], \"sequential\": [[0.0, \"#0d0887\"], [0.1111111111111111, \"#46039f\"], [0.2222222222222222, \"#7201a8\"], [0.3333333333333333, \"#9c179e\"], [0.4444444444444444, \"#bd3786\"], [0.5555555555555556, \"#d8576b\"], [0.6666666666666666, \"#ed7953\"], [0.7777777777777778, \"#fb9f3a\"], [0.8888888888888888, \"#fdca26\"], [1.0, \"#f0f921\"]], \"sequentialminus\": [[0.0, \"#0d0887\"], [0.1111111111111111, \"#46039f\"], [0.2222222222222222, \"#7201a8\"], [0.3333333333333333, \"#9c179e\"], [0.4444444444444444, \"#bd3786\"], [0.5555555555555556, \"#d8576b\"], [0.6666666666666666, \"#ed7953\"], [0.7777777777777778, \"#fb9f3a\"], [0.8888888888888888, \"#fdca26\"], [1.0, \"#f0f921\"]]}, \"colorway\": [\"#636efa\", \"#EF553B\", \"#00cc96\", \"#ab63fa\", \"#FFA15A\", \"#19d3f3\", \"#FF6692\", \"#B6E880\", \"#FF97FF\", \"#FECB52\"], \"font\": {\"color\": \"#2a3f5f\"}, \"geo\": {\"bgcolor\": \"white\", \"lakecolor\": \"white\", \"landcolor\": \"#E5ECF6\", \"showlakes\": true, \"showland\": true, \"subunitcolor\": \"white\"}, \"hoverlabel\": {\"align\": \"left\"}, \"hovermode\": \"closest\", \"mapbox\": {\"style\": \"light\"}, \"paper_bgcolor\": \"white\", \"plot_bgcolor\": \"#E5ECF6\", \"polar\": {\"angularaxis\": {\"gridcolor\": \"white\", \"linecolor\": \"white\", \"ticks\": \"\"}, \"bgcolor\": \"#E5ECF6\", \"radialaxis\": {\"gridcolor\": \"white\", \"linecolor\": \"white\", \"ticks\": \"\"}}, \"scene\": {\"xaxis\": {\"backgroundcolor\": \"#E5ECF6\", \"gridcolor\": \"white\", \"gridwidth\": 2, \"linecolor\": \"white\", \"showbackground\": true, \"ticks\": \"\", \"zerolinecolor\": \"white\"}, \"yaxis\": {\"backgroundcolor\": \"#E5ECF6\", \"gridcolor\": \"white\", \"gridwidth\": 2, \"linecolor\": \"white\", \"showbackground\": true, \"ticks\": \"\", \"zerolinecolor\": \"white\"}, \"zaxis\": {\"backgroundcolor\": \"#E5ECF6\", \"gridcolor\": \"white\", \"gridwidth\": 2, \"linecolor\": \"white\", \"showbackground\": true, \"ticks\": \"\", \"zerolinecolor\": \"white\"}}, \"shapedefaults\": {\"line\": {\"color\": \"#2a3f5f\"}}, \"ternary\": {\"aaxis\": {\"gridcolor\": \"white\", \"linecolor\": \"white\", \"ticks\": \"\"}, \"baxis\": {\"gridcolor\": \"white\", \"linecolor\": \"white\", \"ticks\": \"\"}, \"bgcolor\": \"#E5ECF6\", \"caxis\": {\"gridcolor\": \"white\", \"linecolor\": \"white\", \"ticks\": \"\"}}, \"title\": {\"x\": 0.05}, \"xaxis\": {\"automargin\": true, \"gridcolor\": \"white\", \"linecolor\": \"white\", \"ticks\": \"\", \"title\": {\"standoff\": 15}, \"zerolinecolor\": \"white\", \"zerolinewidth\": 2}, \"yaxis\": {\"automargin\": true, \"gridcolor\": \"white\", \"linecolor\": \"white\", \"ticks\": \"\", \"title\": {\"standoff\": 15}, \"zerolinecolor\": \"white\", \"zerolinewidth\": 2}}}, \"title\": {\"text\": \"Gr\\u00e1fico de G3\"}, \"xaxis\": {\"title\": {\"text\": \"Tamanho da Lista\"}}, \"yaxis\": {\"title\": {\"text\": \"Tempo (s)\"}}},                        {\"responsive\": true}                    ).then(function(){\n",
              "                            \n",
              "var gd = document.getElementById('413f96f9-d9c9-4c71-8663-14627ebb31c5');\n",
              "var x = new MutationObserver(function (mutations, observer) {{\n",
              "        var display = window.getComputedStyle(gd).display;\n",
              "        if (!display || display === 'none') {{\n",
              "            console.log([gd, 'removed!']);\n",
              "            Plotly.purge(gd);\n",
              "            observer.disconnect();\n",
              "        }}\n",
              "}});\n",
              "\n",
              "// Listen for the removal of the full notebook cells\n",
              "var notebookContainer = gd.closest('#notebook-container');\n",
              "if (notebookContainer) {{\n",
              "    x.observe(notebookContainer, {childList: true});\n",
              "}}\n",
              "\n",
              "// Listen for the clearing of the current output cell\n",
              "var outputEl = gd.closest('.output');\n",
              "if (outputEl) {{\n",
              "    x.observe(outputEl, {childList: true});\n",
              "}}\n",
              "\n",
              "                        })                };                            </script>        </div>\n",
              "</body>\n",
              "</html>"
            ]
          },
          "metadata": {
            "tags": []
          }
        }
      ]
    },
    {
      "cell_type": "markdown",
      "metadata": {
        "id": "N9Gu645rgbuU"
      },
      "source": [
        "# Testes"
      ]
    },
    {
      "cell_type": "code",
      "metadata": {
        "id": "dKYzCSlaRwgS",
        "colab": {
          "base_uri": "https://localhost:8080/"
        },
        "outputId": "a2297755-e07d-4e17-8457-6e1b3703b5fd"
      },
      "source": [
        "g_tim_sort"
      ],
      "execution_count": null,
      "outputs": [
        {
          "output_type": "execute_result",
          "data": {
            "text/plain": [
              "array([1.79998380e-05, 3.00954709e-04, 8.01660847e-02, 7.38611821e-01,\n",
              "       2.83834621e+00, 1.09999395e-05, 7.29973356e-05, 2.80032240e-02,\n",
              "       3.41275682e-01, 2.16832029e+00, 1.89998195e-05, 4.92878515e-04,\n",
              "       6.65617855e-02, 6.01096583e-01, 2.51697468e+00])"
            ]
          },
          "metadata": {
            "tags": []
          },
          "execution_count": 20
        }
      ]
    },
    {
      "cell_type": "code",
      "metadata": {
        "id": "jb0JafzURysQ",
        "colab": {
          "base_uri": "https://localhost:8080/"
        },
        "outputId": "d07142f6-b282-48d7-b393-4b5a4f9b92d1"
      },
      "source": [
        "g_merge_sort"
      ],
      "execution_count": null,
      "outputs": [
        {
          "output_type": "execute_result",
          "data": {
            "text/plain": [
              "array([1.24992188e-04, 1.96207387e-03, 6.39592909e-02, 6.15291579e-01,\n",
              "       2.51446197e+00, 6.79976881e-05, 3.19948811e-04, 7.59345886e-02,\n",
              "       4.91595097e-01, 2.11633756e+00, 6.89976196e-05, 3.37942891e-04,\n",
              "       6.04589610e-02, 5.21344110e-01, 2.20668447e+00])"
            ]
          },
          "metadata": {
            "tags": []
          },
          "execution_count": 21
        }
      ]
    },
    {
      "cell_type": "code",
      "metadata": {
        "id": "bihvWlgpR0XR",
        "colab": {
          "base_uri": "https://localhost:8080/"
        },
        "outputId": "b2f3bd44-20c1-460b-ece4-242866c5bcbd"
      },
      "source": [
        "g_python_sort"
      ],
      "execution_count": null,
      "outputs": [
        {
          "output_type": "execute_result",
          "data": {
            "text/plain": [
              "array([4.99998750e-06, 3.99999200e-06, 3.67932305e-04, 6.40047320e-03,\n",
              "       6.41037391e-02, 1.99999800e-06, 1.99999800e-06, 8.39964722e-05,\n",
              "       1.09440092e-03, 1.24946162e-02, 1.99999800e-06, 1.99999800e-06,\n",
              "       9.39955823e-05, 1.23423801e-03, 1.35103232e-02])"
            ]
          },
          "metadata": {
            "tags": []
          },
          "execution_count": 22
        }
      ]
    },
    {
      "cell_type": "code",
      "metadata": {
        "id": "T_T0f-HfR98f",
        "colab": {
          "base_uri": "https://localhost:8080/"
        },
        "outputId": "f33662a4-e9e7-4a42-b5b1-de10919c6593"
      },
      "source": [
        "g_insertion"
      ],
      "execution_count": null,
      "outputs": [
        {
          "output_type": "execute_result",
          "data": {
            "text/plain": [
              "array([1.39999020e-05, 4.90879499e-04, 1.93933875e+00, 6.68952388e+00,\n",
              "       1.06736189e+01, 7.99996800e-06, 2.49996875e-05, 2.60460507e-03,\n",
              "       2.46009011e-02, 2.31233936e-01, 1.79998380e-05, 9.75524022e-04,\n",
              "       2.50491285e+00, 7.04863431e+00, 1.06736189e+01])"
            ]
          },
          "metadata": {
            "tags": []
          },
          "execution_count": 23
        }
      ]
    }
  ]
}