{
  "nbformat": 4,
  "nbformat_minor": 0,
  "metadata": {
    "colab": {
      "name": "AED3TeodoroHugo.ipynb",
      "provenance": [],
      "collapsed_sections": [
        "QuGu7UwQF8n8",
        "fQUnrTgsgRcZ",
        "xcrr8e71SGuP",
        "BfIH2cW2f2-P",
        "XYFYG50Z3xdt"
      ]
    },
    "kernelspec": {
      "name": "python3",
      "display_name": "Python 3"
    },
    "language_info": {
      "name": "python"
    }
  },
  "cells": [
    {
      "cell_type": "markdown",
      "metadata": {
        "id": "DBmcW1Nzxwiy"
      },
      "source": [
        "**Trabalho prático de K-Means** \n",
        "\n",
        "**Disciplina**: Algoritmos e Estruturas de Dados II (2020/02)\n",
        "\n",
        "**Giovanna Souza Teodoro** - 1915080065\n",
        "\n",
        "**Victor Hugo Santos de Lima** - 1915080025"
      ]
    },
    {
      "cell_type": "markdown",
      "metadata": {
        "id": "B3jl_qQYzLrr"
      },
      "source": [
        "*Antes de executar as células, favor montar o drive com o código abaixo.*"
      ]
    },
    {
      "cell_type": "code",
      "metadata": {
        "id": "vGCX-y6Lwuyc",
        "colab": {
          "base_uri": "https://localhost:8080/"
        },
        "outputId": "010871cb-61fb-437c-e944-b75bcc5ebaf7"
      },
      "source": [
        "from google.colab import drive\n",
        "drive.mount('/content/drive')"
      ],
      "execution_count": null,
      "outputs": [
        {
          "output_type": "stream",
          "text": [
            "Drive already mounted at /content/drive; to attempt to forcibly remount, call drive.mount(\"/content/drive\", force_remount=True).\n"
          ],
          "name": "stdout"
        }
      ]
    },
    {
      "cell_type": "markdown",
      "metadata": {
        "id": "ryFNzAqTzOkn"
      },
      "source": [
        "*É possível também fazer upload dos arquivos necessários pela célula abaixo.*"
      ]
    },
    {
      "cell_type": "code",
      "metadata": {
        "id": "2pGLTod8zX28",
        "colab": {
          "resources": {
            "http://localhost:8080/nbextensions/google.colab/files.js": {
              "data": "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",
              "ok": true,
              "headers": [
                [
                  "content-type",
                  "application/javascript"
                ]
              ],
              "status": 200,
              "status_text": ""
            }
          },
          "base_uri": "https://localhost:8080/",
          "height": 72
        },
        "outputId": "2832dc5e-fc6c-4e0c-ec87-c83c08d2c4f3"
      },
      "source": [
        "from google.colab import files\n",
        "uploaded = files.upload()"
      ],
      "execution_count": null,
      "outputs": [
        {
          "output_type": "display_data",
          "data": {
            "text/html": [
              "\n",
              "     <input type=\"file\" id=\"files-b940962e-dd3e-40e8-90c4-655ae404e2ed\" name=\"files[]\" multiple disabled\n",
              "        style=\"border:none\" />\n",
              "     <output id=\"result-b940962e-dd3e-40e8-90c4-655ae404e2ed\">\n",
              "      Upload widget is only available when the cell has been executed in the\n",
              "      current browser session. Please rerun this cell to enable.\n",
              "      </output>\n",
              "      <script src=\"/nbextensions/google.colab/files.js\"></script> "
            ],
            "text/plain": [
              "<IPython.core.display.HTML object>"
            ]
          },
          "metadata": {
            "tags": []
          }
        },
        {
          "output_type": "stream",
          "text": [
            "Saving routers.txt to routers.txt\n"
          ],
          "name": "stdout"
        }
      ]
    },
    {
      "cell_type": "markdown",
      "metadata": {
        "id": "6T1KV01NzogY"
      },
      "source": [
        "# Setup do Ambiente"
      ]
    },
    {
      "cell_type": "code",
      "metadata": {
        "id": "TkJl0hy90A53"
      },
      "source": [
        "'''\n",
        "  Conjunto de bibliotecas necessárias ao longo da execução das células\n",
        "'''\n",
        "import matplotlib.pyplot as plt       \n",
        "%matplotlib inline\n",
        "import numpy as np                    \n",
        "import pandas as pd                    \n",
        "import seaborn as sns                 \n",
        "import networkx as nx                 \n",
        "from sklearn.feature_extraction.text import TfidfVectorizer\n",
        "from gensim.models import Word2Vec\n",
        "from sklearn.decomposition import PCA\n",
        "from sklearn.cluster import KMeans\n",
        "from sklearn.metrics.pairwise import cosine_similarity\n",
        "from sklearn.manifold import MDS\n",
        "from nltk.stem.porter import PorterStemmer\n",
        "\n",
        "'''\n",
        "  Descomente a linha a partir do método pelo qual optou \n",
        "'''\n",
        "# PELO DRIVE\n",
        "# dataframeRouters = pd.read_csv('/content/drive/Shareddrives/AED3TeodoroHugo/routers.txt', names=[\"category\", \"instances\"])\n",
        "\n",
        "\n",
        "# PELO UPLOAD\n",
        "dataframeRouters = pd.read_csv('./routers.txt', names=[\"category\", \"instances\"])\n",
        "\n"
      ],
      "execution_count": null,
      "outputs": []
    },
    {
      "cell_type": "markdown",
      "metadata": {
        "id": "W9S6hUGdm0Kz"
      },
      "source": [
        "# Construção dos Gabaritos"
      ]
    },
    {
      "cell_type": "code",
      "metadata": {
        "id": "2mhXSxcZGGwm"
      },
      "source": [
        "gabaritos = {}\n",
        "\n",
        "aux = \"\"\n",
        "\n",
        "count = 0\n",
        "\n",
        "for i in dataframeRouters[\"category\"]:\n",
        "    if aux != i:\n",
        "        aux = i\n",
        "        gabaritos[aux] = []\n",
        "    \n",
        "    gabaritos[aux].append(dataframeRouters[\"instances\"][count])\n",
        "    count += 1"
      ],
      "execution_count": null,
      "outputs": []
    },
    {
      "cell_type": "code",
      "metadata": {
        "id": "GOlPdD6esPb7"
      },
      "source": [
        "palavras = []\n",
        "\n",
        "# Criação de um array com todas as sentenças\n",
        "\n",
        "for i in dataframeRouters[\"instances\"]:\n",
        "    palavras.append(i)"
      ],
      "execution_count": null,
      "outputs": []
    },
    {
      "cell_type": "code",
      "metadata": {
        "id": "g7JEFLNIjV_B"
      },
      "source": [
        "palavras2 = [[i] for i in palavras]"
      ],
      "execution_count": null,
      "outputs": []
    },
    {
      "cell_type": "markdown",
      "metadata": {
        "id": "QuGu7UwQF8n8"
      },
      "source": [
        "# Similaridade entre palavras"
      ]
    },
    {
      "cell_type": "code",
      "metadata": {
        "id": "VsLKQiOmxJEU",
        "colab": {
          "base_uri": "https://localhost:8080/",
          "height": 158
        },
        "outputId": "d23ed23b-808b-4510-addd-1f9e7c99f40d"
      },
      "source": [
        "nlp = en_core_web_lg.load()"
      ],
      "execution_count": null,
      "outputs": [
        {
          "output_type": "error",
          "ename": "NameError",
          "evalue": "ignored",
          "traceback": [
            "\u001b[0;31m---------------------------------------------------------------------------\u001b[0m",
            "\u001b[0;31mNameError\u001b[0m                                 Traceback (most recent call last)",
            "\u001b[0;32m<ipython-input-7-cd055329100b>\u001b[0m in \u001b[0;36m<module>\u001b[0;34m()\u001b[0m\n\u001b[0;32m----> 1\u001b[0;31m \u001b[0mnlp\u001b[0m \u001b[0;34m=\u001b[0m \u001b[0men_core_web_lg\u001b[0m\u001b[0;34m.\u001b[0m\u001b[0mload\u001b[0m\u001b[0;34m(\u001b[0m\u001b[0;34m)\u001b[0m\u001b[0;34m\u001b[0m\u001b[0;34m\u001b[0m\u001b[0m\n\u001b[0m",
            "\u001b[0;31mNameError\u001b[0m: name 'en_core_web_lg' is not defined"
          ]
        }
      ]
    },
    {
      "cell_type": "code",
      "metadata": {
        "id": "gvNawRrJeXSh"
      },
      "source": [
        "file = open(\"similaridades.txt\", \"w+\")\n",
        "\n",
        "for i in range(len(palavras) - 1):\n",
        "    for j in range(i + 1, len(palavras)):\n",
        "        word1 = nlp(palavras[i])\n",
        "        word2 = nlp(palavras[j])\n",
        "        \n",
        "        similaridade = word1.similarity(word2)\n",
        "\n",
        "        file.write(palavras[i] + \",\" + palavras[j] + \",\" + str(similaridade) + \"\\n\")\n",
        "file.close()"
      ],
      "execution_count": null,
      "outputs": []
    },
    {
      "cell_type": "markdown",
      "metadata": {
        "id": "fQUnrTgsgRcZ"
      },
      "source": [
        "# TF-IDF"
      ]
    },
    {
      "cell_type": "code",
      "metadata": {
        "id": "aw7fLWKygdEm"
      },
      "source": [
        "vectorizer = TfidfVectorizer()\n",
        "\n",
        "vectors = vectorizer.fit_transform(palavras)\n",
        "feature_names = vectorizer.get_feature_names()"
      ],
      "execution_count": null,
      "outputs": []
    },
    {
      "cell_type": "code",
      "metadata": {
        "id": "HLNhvL_XNDdF"
      },
      "source": [
        "k = 9\n",
        "\n",
        "model = KMeans(n_clusters=k, init=\"k-means++\", max_iter=100, n_init=1)\n",
        "\n",
        "model.fit(vectors)\n",
        "\n",
        "order_centroids = model.cluster_centers_.argsort()[:, ::-1]\n",
        "terms = vectorizer.get_feature_names()"
      ],
      "execution_count": null,
      "outputs": []
    },
    {
      "cell_type": "code",
      "metadata": {
        "id": "bhAfw3QAQBUT"
      },
      "source": [
        "from sklearn.decomposition import PCA\n",
        "\n",
        "kmeans_indices = model.fit_predict(vectors)\n",
        "\n",
        "pca = PCA(n_components=2)\n",
        "\n",
        "scatter_plot_points = pca.fit_transform(vectors.toarray())\n",
        "\n",
        "colors = [\"r\",\"b\",\"w\",\"c\",\"m\",\"y\",\"g\",\"p\",\"o\"]\n",
        "\n",
        "x = [o[0] for o in scatter_plot_points]\n",
        "y = [o[1] for o in scatter_plot_points]\n",
        "\n",
        "fig, ax = plt.subplots(figsize=(10, 10))\n",
        "\n",
        "ax.scatter(x, y)\n",
        "\n",
        "#for i, txt in enumerate(palavras):\n",
        "#    ax.annotate(txt, (x[i], y[i]))"
      ],
      "execution_count": null,
      "outputs": []
    },
    {
      "cell_type": "markdown",
      "metadata": {
        "id": "xcrr8e71SGuP"
      },
      "source": [
        "# Teste 1"
      ]
    },
    {
      "cell_type": "code",
      "metadata": {
        "id": "0ClYa9UTSMWr"
      },
      "source": [
        "vectorizer = TfidfVectorizer()\n",
        "\n",
        "vectors = vectorizer.fit_transform(palavras)\n",
        "feature_names = vectorizer.get_feature_names()"
      ],
      "execution_count": null,
      "outputs": []
    },
    {
      "cell_type": "code",
      "metadata": {
        "id": "1x2H6QTYYVR2"
      },
      "source": [
        "from sklearn.metrics.pairwise import cosine_similarity\n",
        "\n",
        "dist = 1 - cosine_similarity(vectors)"
      ],
      "execution_count": null,
      "outputs": []
    },
    {
      "cell_type": "code",
      "metadata": {
        "id": "HffMpjMPSJM5"
      },
      "source": [
        "from sklearn.cluster import KMeans\n",
        "\n",
        "kmeans = KMeans(n_clusters=9).fit(vectors)\n",
        "\n",
        "clusters = kmeans.labels_.tolist()\n",
        "\n",
        "y_kmeans = kmeans.predict(vectors)"
      ],
      "execution_count": null,
      "outputs": []
    },
    {
      "cell_type": "code",
      "metadata": {
        "id": "EPPeF0wxX_Jm"
      },
      "source": [
        "import os  # for os.path.basename\n",
        "\n",
        "import matplotlib.pyplot as plt\n",
        "import matplotlib as mpl\n",
        "\n",
        "from sklearn.manifold import MDS\n",
        "\n",
        "MDS()\n",
        "\n",
        "mds = MDS(n_components=2, dissimilarity=\"precomputed\", random_state=1)\n",
        "\n",
        "pos = mds.fit_transform(dist)  \n",
        "\n",
        "xs, ys = pos[:, 0], pos[:, 1]"
      ],
      "execution_count": null,
      "outputs": []
    },
    {
      "cell_type": "code",
      "metadata": {
        "id": "b4t8RiVeYfkl"
      },
      "source": [
        "cluster_colors = {0: '#1b9e77', 1: '#d95f02', 2: '#7570b3', 3: '#e7298a', 4: '#66a61e', 5: '#cd5fec', 6: '#38f3ec', 7: '#38f349', 8: '#000000'}\n",
        "\n",
        "cluster_names = {0: 'general', \n",
        "                 1: 'battery', \n",
        "                 2: 'software', \n",
        "                 3: 'camera', \n",
        "                 4: 'dimension',\n",
        "                 5: 'display',\n",
        "                 6: 'memory',\n",
        "                 7: 'price',\n",
        "                 8: 'processor'}"
      ],
      "execution_count": null,
      "outputs": []
    },
    {
      "cell_type": "code",
      "metadata": {
        "id": "CoKbuxawSYVr"
      },
      "source": [
        "%matplotlib inline \n",
        "\n",
        "#create data frame that has the result of the MDS plus the cluster numbers and titles\n",
        "df = pd.DataFrame(dict(x=xs, y=ys, label=clusters)) \n",
        "\n",
        "#group by cluster\n",
        "groups = df.groupby('label')\n",
        "\n",
        "df['titles'] = palavras\n",
        "\n",
        "# set up plot\n",
        "fig, ax = plt.subplots(figsize=(17, 9)) # set size\n",
        "ax.margins(0.05) # Optional, just adds 5% padding to the autoscaling\n",
        "\n",
        "#iterate through groups to layer the plot\n",
        "#note that I use the cluster_name and cluster_color dicts with the 'name' lookup to return the appropriate color/label\n",
        "for name, group in groups:\n",
        "    ax.plot(group.x, group.y, marker='o', linestyle='', ms=12, \n",
        "            label=cluster_names[name], color=cluster_colors[name], \n",
        "            mec='none')\n",
        "    ax.set_aspect('auto')\n",
        "    ax.tick_params(\\\n",
        "        axis= 'x',          # changes apply to the x-axis\n",
        "        which='both',      # both major and minor ticks are affected\n",
        "        bottom='off',      # ticks along the bottom edge are off\n",
        "        top='off',         # ticks along the top edge are off\n",
        "        labelbottom='off')\n",
        "    ax.tick_params(\\\n",
        "        axis= 'y',         # changes apply to the y-axis\n",
        "        which='both',      # both major and minor ticks are affected\n",
        "        left='off',      # ticks along the bottom edge are off\n",
        "        top='off',         # ticks along the top edge are off\n",
        "        labelleft='off')\n",
        "    \n",
        "ax.legend(numpoints=1)  #show legend with only 1 point\n",
        "\n",
        "#add label in x,y position with the label as the film titl  \n",
        "    \n",
        "plt.show()"
      ],
      "execution_count": null,
      "outputs": []
    },
    {
      "cell_type": "markdown",
      "metadata": {
        "id": "BfIH2cW2f2-P"
      },
      "source": [
        "# Teste 2 - Word2Vec"
      ]
    },
    {
      "cell_type": "code",
      "metadata": {
        "id": "p8qIlevyf6IU"
      },
      "source": [
        "model = Word2Vec(palavras2, min_count=1)\n",
        "\n",
        "X = model[model.wv.vocab]"
      ],
      "execution_count": null,
      "outputs": []
    },
    {
      "cell_type": "code",
      "metadata": {
        "id": "Va870BYrhTFx"
      },
      "source": [
        "kmeans = KMeans(n_clusters=9, max_iter=300).fit(X)\n",
        "dataframeRouters['cluster'] = kmeans.predict(X)\n",
        "centroids = kmeans.cluster_centers_"
      ],
      "execution_count": null,
      "outputs": []
    },
    {
      "cell_type": "code",
      "metadata": {
        "id": "zQuGGtCPnNjj"
      },
      "source": [
        "pca = PCA(n_components=2)\n",
        "\n",
        "pca_result = pca.fit_transform(X)\n",
        "\n",
        "dataframeRouters['x'] = pca_result[:, 0]\n",
        "dataframeRouters['y'] = pca_result[:, 1]"
      ],
      "execution_count": null,
      "outputs": []
    },
    {
      "cell_type": "markdown",
      "metadata": {
        "id": "XYFYG50Z3xdt"
      },
      "source": [
        "# Teste 3 - Word2Vec"
      ]
    },
    {
      "cell_type": "code",
      "metadata": {
        "id": "dcn46iuW319o"
      },
      "source": [
        "model = Word2Vec(palavras2, min_count=1)\n",
        "\n",
        "X = model[model.wv.vocab]"
      ],
      "execution_count": null,
      "outputs": []
    },
    {
      "cell_type": "code",
      "metadata": {
        "id": "rMdHsbqM38SV"
      },
      "source": [
        "pca = PCA(n_components=2, random_state=42)\n",
        "\n",
        "pca_result = pca.fit_transform(X)\n",
        "\n",
        "dataframeRouters['x'] = pca_result[:, 0]\n",
        "dataframeRouters['y'] = pca_result[:, 1]"
      ],
      "execution_count": null,
      "outputs": []
    },
    {
      "cell_type": "code",
      "metadata": {
        "id": "5sACih3B4CPq"
      },
      "source": [
        "kmeans = KMeans(n_clusters=9, max_iter=300).fit(pca_result)\n",
        "\n",
        "dataframeRouters['cluster'] = kmeans.predict(pca_result)\n",
        "\n",
        "centroids = kmeans.cluster_centers_"
      ],
      "execution_count": null,
      "outputs": []
    },
    {
      "cell_type": "code",
      "metadata": {
        "id": "nNssijVTmJms"
      },
      "source": [
        "colors = ['#5E005E', '#AB11AB', '#5E4C09', '#095E52', '#09AB92', '#B5FF5E', '#7897FF', '#76B330', '#CDD1AE']\n",
        "dataframeRouters['color'] = dataframeRouters.cluster.map({0:colors[0], 1:colors[1], 2:colors[2], 3:colors[3], 4:colors[4], 5:colors[5], 6:colors[6], 7:colors[7], 8:colors[8]})"
      ],
      "execution_count": null,
      "outputs": []
    },
    {
      "cell_type": "code",
      "metadata": {
        "id": "MJE7ots9qQA-"
      },
      "source": [
        "plt.subplots(figsize=(14, 14))\n",
        "\n",
        "plt.scatter(centroids[:,0], centroids[:,1], c='black', alpha = 0.6, s=400, marker='x')\n",
        "plt.scatter(dataframeRouters.x, dataframeRouters.y, c=dataframeRouters.color, alpha = 0.6, s=200)\n",
        "\n",
        "labels = dataframeRouters['instances'].to_list()\n",
        "x = dataframeRouters['x'].to_list()\n",
        "y = dataframeRouters['y'].to_list()\n",
        " \n",
        "for i in range(len(x)):\n",
        "  plt.annotate(labels[i],\n",
        "                     xy=(x[i], y[i]),\n",
        "                     xytext=(5, 2),\n",
        "                     textcoords='offset points',\n",
        "                     ha='right',\n",
        "                     va='bottom')\n",
        "plt.show()"
      ],
      "execution_count": null,
      "outputs": []
    },
    {
      "cell_type": "code",
      "metadata": {
        "id": "8zystc3ht_gQ"
      },
      "source": [
        "resposta = {0:[], 1:[], 2:[], 3:[], 4:[], 5:[], 6:[], 7:[], 8:[]}\n",
        "\n",
        "for i in range(len(dataframeRouters)):\n",
        "    resposta[int(np.array(dataframeRouters['cluster'])[i])].append(np.array(dataframeRouters['instances'])[i])"
      ],
      "execution_count": null,
      "outputs": []
    },
    {
      "cell_type": "code",
      "metadata": {
        "id": "zoj8Ki9EvNAt"
      },
      "source": [
        "resposta[0]"
      ],
      "execution_count": null,
      "outputs": []
    },
    {
      "cell_type": "code",
      "metadata": {
        "id": "BA2CsS-4Avrz"
      },
      "source": [
        "gabaritos['general']"
      ],
      "execution_count": null,
      "outputs": []
    },
    {
      "cell_type": "markdown",
      "metadata": {
        "id": "dxcqW81hHU2r"
      },
      "source": [
        "# Teste 4 - Tf-Idf"
      ]
    },
    {
      "cell_type": "code",
      "metadata": {
        "id": "C1Cr9vW3e-s9"
      },
      "source": [
        "# Tratamento das sentenças utilizando o método de \"Stemming\"\n",
        "\n",
        "p_stemmer = PorterStemmer()\n",
        "\n",
        "palavras3 = []\n",
        "\n",
        "for word in palavras:\n",
        "    if(len(word.split()) > 1):\n",
        "        aux = ''\n",
        "        for subword in word.split():\n",
        "            aux += p_stemmer.stem(subword) + ' '\n",
        "        palavras3.append(aux[:-1])\n",
        "    elif word == \"software/app\":\n",
        "        palavras3.append(\"softwar/app\")\n",
        "    elif word == \"extention\":\n",
        "        palavras3.append(\"extend\")\n",
        "    else:        \n",
        "        palavras3.append(p_stemmer.stem(word))"
      ],
      "execution_count": null,
      "outputs": []
    },
    {
      "cell_type": "code",
      "metadata": {
        "id": "XDBNM4XSHk6C"
      },
      "source": [
        "vectorizer = TfidfVectorizer(stop_words='english')\n",
        "\n",
        "# Transformação das sentenças em valores numéricos utilizando o método \"TF-IDF\"\n",
        "X = vectorizer.fit_transform(palavras3)"
      ],
      "execution_count": null,
      "outputs": []
    },
    {
      "cell_type": "code",
      "metadata": {
        "id": "R2d2IJsIYlhR"
      },
      "source": [
        "# Similaridade por cosseno\n",
        "dist = (1.42 - cosine_similarity(X))\n",
        "\n",
        "mds = MDS(n_components=2, dissimilarity=\"precomputed\", random_state=42)\n",
        "\n",
        "# Redução da dimensionalidade dos valores numéricos para duas dimensões\n",
        "pos = mds.fit_transform(dist)"
      ],
      "execution_count": null,
      "outputs": []
    },
    {
      "cell_type": "code",
      "metadata": {
        "id": "VP1LS_hNHl2L"
      },
      "source": [
        "pca = PCA(n_components=2, random_state=42)\n",
        "\n",
        "pca_result = pca.fit_transform(pos)\n",
        "\n",
        "# Criação da coluna x e y no dataframe \n",
        "dataframeRouters['x'] = pca_result[:, 0]\n",
        "dataframeRouters['y'] = pca_result[:, 1]"
      ],
      "execution_count": null,
      "outputs": []
    },
    {
      "cell_type": "code",
      "metadata": {
        "id": "myllV_HzH4jt"
      },
      "source": [
        "kmeans = KMeans(n_clusters=9, max_iter=1000, random_state=15).fit(pca_result)\n",
        "\n",
        "# Criação da coluna \"cluster\" no dataframe\n",
        "dataframeRouters['cluster'] = kmeans.predict(pca_result)\n",
        "\n",
        "# Obtenção de uma matriz com as posições dos centroides \n",
        "centroids = kmeans.cluster_centers_"
      ],
      "execution_count": null,
      "outputs": []
    },
    {
      "cell_type": "code",
      "metadata": {
        "id": "DlA8umj0H-C4"
      },
      "source": [
        "# Definição das cores de cada cluster\n",
        "colors = ['#5E005E', '#AB11AB', '#5E4C09', '#095E52', '#09AB92', '#B5FF5E', '#7897FF', '#76B330', '#CDD1AE']\n",
        "dataframeRouters['color'] = dataframeRouters.cluster.map({0:colors[0], 1:colors[1], 2:colors[2], 3:colors[3], 4:colors[4], 5:colors[5], 6:colors[6], 7:colors[7], 8:colors[8]})"
      ],
      "execution_count": null,
      "outputs": []
    },
    {
      "cell_type": "code",
      "metadata": {
        "id": "uTZhUuH4H-rC",
        "colab": {
          "base_uri": "https://localhost:8080/",
          "height": 809
        },
        "outputId": "a2cfc3ad-be6e-4004-fed0-6b6a6420fff5"
      },
      "source": [
        "plt.subplots(figsize=(20, 14))\n",
        "\n",
        "# Plotagem dos pontos e centroides\n",
        "plt.scatter(dataframeRouters.x, dataframeRouters.y, c=dataframeRouters.color, alpha = 0.6, s=200)\n",
        "plt.scatter(centroids[:,0], centroids[:,1], c='black', alpha = 0.6, s=400, marker='x')\n",
        "\n",
        "labels = dataframeRouters['instances'].to_list()\n",
        "x = dataframeRouters['x'].to_list()\n",
        "y = dataframeRouters['y'].to_list()\n",
        "\n",
        "# Plotagem das labels \n",
        "for i in range(len(x)):\n",
        "    plt.annotate(labels[i],\n",
        "                     xy=(x[i], y[i]),\n",
        "                     xytext=(15, 7),\n",
        "                     textcoords='offset points',\n",
        "                     ha='right',\n",
        "                     va='bottom')\n",
        "plt.show()"
      ],
      "execution_count": null,
      "outputs": [
        {
          "output_type": "display_data",
          "data": {
            "image/png": "[encoded data removed]",
            "text/plain": [
              "<Figure size 1440x1008 with 1 Axes>"
            ]
          },
          "metadata": {
            "tags": [],
            "needs_background": "light"
          }
        }
      ]
    },
    {
      "cell_type": "code",
      "metadata": {
        "id": "KgDfzLK_5rCh",
        "colab": {
          "base_uri": "https://localhost:8080/",
          "height": 483
        },
        "outputId": "623cfc13-8b2f-46c1-9da3-c657a74be521"
      },
      "source": [
        "dataframeRouters[dataframeRouters.category == 'general']"
      ],
      "execution_count": null,
      "outputs": [
        {
          "output_type": "execute_result",
          "data": {
            "text/html": [
              "<div>\n",
              "<style scoped>\n",
              "    .dataframe tbody tr th:only-of-type {\n",
              "        vertical-align: middle;\n",
              "    }\n",
              "\n",
              "    .dataframe tbody tr th {\n",
              "        vertical-align: top;\n",
              "    }\n",
              "\n",
              "    .dataframe thead th {\n",
              "        text-align: right;\n",
              "    }\n",
              "</style>\n",
              "<table border=\"1\" class=\"dataframe\">\n",
              "  <thead>\n",
              "    <tr style=\"text-align: right;\">\n",
              "      <th></th>\n",
              "      <th>category</th>\n",
              "      <th>instances</th>\n",
              "      <th>x</th>\n",
              "      <th>y</th>\n",
              "      <th>cluster</th>\n",
              "      <th>color</th>\n",
              "    </tr>\n",
              "  </thead>\n",
              "  <tbody>\n",
              "    <tr>\n",
              "      <th>6</th>\n",
              "      <td>general</td>\n",
              "      <td>device</td>\n",
              "      <td>0.443004</td>\n",
              "      <td>0.912938</td>\n",
              "      <td>4</td>\n",
              "      <td>#09AB92</td>\n",
              "    </tr>\n",
              "    <tr>\n",
              "      <th>7</th>\n",
              "      <td>general</td>\n",
              "      <td>gigabit switch</td>\n",
              "      <td>-0.062158</td>\n",
              "      <td>0.928304</td>\n",
              "      <td>4</td>\n",
              "      <td>#09AB92</td>\n",
              "    </tr>\n",
              "    <tr>\n",
              "      <th>8</th>\n",
              "      <td>general</td>\n",
              "      <td>switch</td>\n",
              "      <td>-0.184826</td>\n",
              "      <td>0.900501</td>\n",
              "      <td>4</td>\n",
              "      <td>#09AB92</td>\n",
              "    </tr>\n",
              "    <tr>\n",
              "      <th>9</th>\n",
              "      <td>general</td>\n",
              "      <td>deal</td>\n",
              "      <td>0.314778</td>\n",
              "      <td>1.033246</td>\n",
              "      <td>4</td>\n",
              "      <td>#09AB92</td>\n",
              "    </tr>\n",
              "    <tr>\n",
              "      <th>10</th>\n",
              "      <td>general</td>\n",
              "      <td>wireless router</td>\n",
              "      <td>0.871805</td>\n",
              "      <td>-0.555078</td>\n",
              "      <td>6</td>\n",
              "      <td>#7897FF</td>\n",
              "    </tr>\n",
              "    <tr>\n",
              "      <th>11</th>\n",
              "      <td>general</td>\n",
              "      <td>product</td>\n",
              "      <td>0.133872</td>\n",
              "      <td>1.065988</td>\n",
              "      <td>4</td>\n",
              "      <td>#09AB92</td>\n",
              "    </tr>\n",
              "    <tr>\n",
              "      <th>12</th>\n",
              "      <td>general</td>\n",
              "      <td>router</td>\n",
              "      <td>0.849839</td>\n",
              "      <td>-0.635756</td>\n",
              "      <td>6</td>\n",
              "      <td>#7897FF</td>\n",
              "    </tr>\n",
              "    <tr>\n",
              "      <th>13</th>\n",
              "      <td>general</td>\n",
              "      <td>purchase</td>\n",
              "      <td>-1.035106</td>\n",
              "      <td>-0.195081</td>\n",
              "      <td>3</td>\n",
              "      <td>#095E52</td>\n",
              "    </tr>\n",
              "    <tr>\n",
              "      <th>14</th>\n",
              "      <td>general</td>\n",
              "      <td>brand</td>\n",
              "      <td>-0.785484</td>\n",
              "      <td>0.399246</td>\n",
              "      <td>0</td>\n",
              "      <td>#5E005E</td>\n",
              "    </tr>\n",
              "    <tr>\n",
              "      <th>15</th>\n",
              "      <td>general</td>\n",
              "      <td>netgear</td>\n",
              "      <td>-0.446283</td>\n",
              "      <td>0.738676</td>\n",
              "      <td>0</td>\n",
              "      <td>#5E005E</td>\n",
              "    </tr>\n",
              "    <tr>\n",
              "      <th>16</th>\n",
              "      <td>general</td>\n",
              "      <td>item</td>\n",
              "      <td>-0.207703</td>\n",
              "      <td>-0.400910</td>\n",
              "      <td>5</td>\n",
              "      <td>#B5FF5E</td>\n",
              "    </tr>\n",
              "    <tr>\n",
              "      <th>17</th>\n",
              "      <td>general</td>\n",
              "      <td>netgear switch</td>\n",
              "      <td>-0.315747</td>\n",
              "      <td>0.842955</td>\n",
              "      <td>4</td>\n",
              "      <td>#09AB92</td>\n",
              "    </tr>\n",
              "    <tr>\n",
              "      <th>18</th>\n",
              "      <td>general</td>\n",
              "      <td>extender</td>\n",
              "      <td>0.876306</td>\n",
              "      <td>0.498155</td>\n",
              "      <td>2</td>\n",
              "      <td>#5E4C09</td>\n",
              "    </tr>\n",
              "    <tr>\n",
              "      <th>19</th>\n",
              "      <td>general</td>\n",
              "      <td>gss108e</td>\n",
              "      <td>-0.176466</td>\n",
              "      <td>1.106970</td>\n",
              "      <td>4</td>\n",
              "      <td>#09AB92</td>\n",
              "    </tr>\n",
              "  </tbody>\n",
              "</table>\n",
              "</div>"
            ],
            "text/plain": [
              "   category        instances         x         y  cluster    color\n",
              "6   general           device  0.443004  0.912938        4  #09AB92\n",
              "7   general   gigabit switch -0.062158  0.928304        4  #09AB92\n",
              "8   general           switch -0.184826  0.900501        4  #09AB92\n",
              "9   general             deal  0.314778  1.033246        4  #09AB92\n",
              "10  general  wireless router  0.871805 -0.555078        6  #7897FF\n",
              "11  general          product  0.133872  1.065988        4  #09AB92\n",
              "12  general           router  0.849839 -0.635756        6  #7897FF\n",
              "13  general         purchase -1.035106 -0.195081        3  #095E52\n",
              "14  general            brand -0.785484  0.399246        0  #5E005E\n",
              "15  general          netgear -0.446283  0.738676        0  #5E005E\n",
              "16  general             item -0.207703 -0.400910        5  #B5FF5E\n",
              "17  general   netgear switch -0.315747  0.842955        4  #09AB92\n",
              "18  general         extender  0.876306  0.498155        2  #5E4C09\n",
              "19  general          gss108e -0.176466  1.106970        4  #09AB92"
            ]
          },
          "metadata": {
            "tags": []
          },
          "execution_count": 571
        }
      ]
    },
    {
      "cell_type": "code",
      "metadata": {
        "colab": {
          "base_uri": "https://localhost:8080/",
          "height": 419
        },
        "id": "P70kOn5acbJY",
        "outputId": "97aa4d10-b111-40d6-9bf7-3ccdf86aecd6"
      },
      "source": [
        "dataframeRouters"
      ],
      "execution_count": null,
      "outputs": [
        {
          "output_type": "execute_result",
          "data": {
            "text/html": [
              "<div>\n",
              "<style scoped>\n",
              "    .dataframe tbody tr th:only-of-type {\n",
              "        vertical-align: middle;\n",
              "    }\n",
              "\n",
              "    .dataframe tbody tr th {\n",
              "        vertical-align: top;\n",
              "    }\n",
              "\n",
              "    .dataframe thead th {\n",
              "        text-align: right;\n",
              "    }\n",
              "</style>\n",
              "<table border=\"1\" class=\"dataframe\">\n",
              "  <thead>\n",
              "    <tr style=\"text-align: right;\">\n",
              "      <th></th>\n",
              "      <th>category</th>\n",
              "      <th>instances</th>\n",
              "      <th>x</th>\n",
              "      <th>y</th>\n",
              "      <th>cluster</th>\n",
              "      <th>color</th>\n",
              "    </tr>\n",
              "  </thead>\n",
              "  <tbody>\n",
              "    <tr>\n",
              "      <th>0</th>\n",
              "      <td>security</td>\n",
              "      <td>security features</td>\n",
              "      <td>0.290279</td>\n",
              "      <td>0.648968</td>\n",
              "      <td>7</td>\n",
              "      <td>#76B330</td>\n",
              "    </tr>\n",
              "    <tr>\n",
              "      <th>1</th>\n",
              "      <td>security</td>\n",
              "      <td>security management</td>\n",
              "      <td>0.055705</td>\n",
              "      <td>0.382727</td>\n",
              "      <td>7</td>\n",
              "      <td>#76B330</td>\n",
              "    </tr>\n",
              "    <tr>\n",
              "      <th>2</th>\n",
              "      <td>security</td>\n",
              "      <td>security</td>\n",
              "      <td>0.223757</td>\n",
              "      <td>0.500912</td>\n",
              "      <td>7</td>\n",
              "      <td>#76B330</td>\n",
              "    </tr>\n",
              "    <tr>\n",
              "      <th>3</th>\n",
              "      <td>security</td>\n",
              "      <td>secure</td>\n",
              "      <td>0.276500</td>\n",
              "      <td>0.429572</td>\n",
              "      <td>7</td>\n",
              "      <td>#76B330</td>\n",
              "    </tr>\n",
              "    <tr>\n",
              "      <th>4</th>\n",
              "      <td>security</td>\n",
              "      <td>protect</td>\n",
              "      <td>-1.057949</td>\n",
              "      <td>0.177360</td>\n",
              "      <td>3</td>\n",
              "      <td>#095E52</td>\n",
              "    </tr>\n",
              "    <tr>\n",
              "      <th>...</th>\n",
              "      <td>...</td>\n",
              "      <td>...</td>\n",
              "      <td>...</td>\n",
              "      <td>...</td>\n",
              "      <td>...</td>\n",
              "      <td>...</td>\n",
              "    </tr>\n",
              "    <tr>\n",
              "      <th>60</th>\n",
              "      <td>coveragearea</td>\n",
              "      <td>extention</td>\n",
              "      <td>0.834703</td>\n",
              "      <td>0.525634</td>\n",
              "      <td>2</td>\n",
              "      <td>#5E4C09</td>\n",
              "    </tr>\n",
              "    <tr>\n",
              "      <th>61</th>\n",
              "      <td>coveragearea</td>\n",
              "      <td>extended range</td>\n",
              "      <td>0.771830</td>\n",
              "      <td>0.284689</td>\n",
              "      <td>2</td>\n",
              "      <td>#5E4C09</td>\n",
              "    </tr>\n",
              "    <tr>\n",
              "      <th>62</th>\n",
              "      <td>coveragearea</td>\n",
              "      <td>signal</td>\n",
              "      <td>-0.528970</td>\n",
              "      <td>0.964762</td>\n",
              "      <td>0</td>\n",
              "      <td>#5E005E</td>\n",
              "    </tr>\n",
              "    <tr>\n",
              "      <th>63</th>\n",
              "      <td>coveragearea</td>\n",
              "      <td>reception</td>\n",
              "      <td>-0.507463</td>\n",
              "      <td>-0.973808</td>\n",
              "      <td>8</td>\n",
              "      <td>#CDD1AE</td>\n",
              "    </tr>\n",
              "    <tr>\n",
              "      <th>64</th>\n",
              "      <td>coveragearea</td>\n",
              "      <td>extends range</td>\n",
              "      <td>0.772290</td>\n",
              "      <td>0.337909</td>\n",
              "      <td>2</td>\n",
              "      <td>#5E4C09</td>\n",
              "    </tr>\n",
              "  </tbody>\n",
              "</table>\n",
              "<p>65 rows × 6 columns</p>\n",
              "</div>"
            ],
            "text/plain": [
              "        category            instances         x         y  cluster    color\n",
              "0       security    security features  0.290279  0.648968        7  #76B330\n",
              "1       security  security management  0.055705  0.382727        7  #76B330\n",
              "2       security             security  0.223757  0.500912        7  #76B330\n",
              "3       security               secure  0.276500  0.429572        7  #76B330\n",
              "4       security              protect -1.057949  0.177360        3  #095E52\n",
              "..           ...                  ...       ...       ...      ...      ...\n",
              "60  coveragearea            extention  0.834703  0.525634        2  #5E4C09\n",
              "61  coveragearea       extended range  0.771830  0.284689        2  #5E4C09\n",
              "62  coveragearea               signal -0.528970  0.964762        0  #5E005E\n",
              "63  coveragearea            reception -0.507463 -0.973808        8  #CDD1AE\n",
              "64  coveragearea        extends range  0.772290  0.337909        2  #5E4C09\n",
              "\n",
              "[65 rows x 6 columns]"
            ]
          },
          "metadata": {
            "tags": []
          },
          "execution_count": 572
        }
      ]
    }
  ]
}